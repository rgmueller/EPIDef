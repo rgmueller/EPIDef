{
 "cells": [
  {
   "cell_type": "code",
   "execution_count": 13,
   "metadata": {},
   "outputs": [],
   "source": [
    "from tensorflow.keras import Model, Sequential\n",
    "from tensorflow.keras.layers import Conv2D, Activation\n",
    "from tensorflow.keras.layers import BatchNormalization, Input\n",
    "from tensorflow.keras.backend import concatenate\n",
    "import tensorflow as tf\n",
    "from official.vision.image_classification.efficientnet import efficientnet_model\n",
    "\n",
    "\n",
    "\n",
    "def layer1_multistream(res_x, res_y, num_cams, filter_num, filter_size):\n",
    "    \"\"\"\n",
    "    Multi-stream layer: Conv - ReLU - Conv - ReLU - BN\n",
    "\n",
    "    :param res_x:\n",
    "    :param res_y:\n",
    "    :param num_cams:\n",
    "    :param filter_num:\n",
    "    :return:\n",
    "    \"\"\"\n",
    "    if not hasattr(layer1_multistream, \"instance\"):\n",
    "        layer1_multistream.instance = 0\n",
    "    j = layer1_multistream.instance\n",
    "    seq = Sequential()\n",
    "    seq.add(Conv2D(filter_num, (filter_size, filter_size),\n",
    "                   input_shape=(res_x, res_y, num_cams),\n",
    "                   padding='valid', name=f'S1_C10_{j}', activation='relu'))\n",
    "    seq.add(Conv2D(filter_num, (filter_size, filter_size),\n",
    "                   input_shape=(res_x-2*(filter_size//2), res_y-2*(filter_size//2), 70),\n",
    "                   padding='valid', name=f'S1_C20_{j}'))\n",
    "    seq.add(BatchNormalization(axis=-1, name=f'S1_BN0_{j}'))\n",
    "    seq.add(Activation('relu'))\n",
    "\n",
    "    seq.add(Conv2D(filter_num, (filter_size, filter_size),\n",
    "                   input_shape=(res_x-4*(filter_size//2), res_y-4*(filter_size//2), 70),\n",
    "                   padding='valid', name=f'S1_C11_{j}', activation='relu'))\n",
    "    seq.add(Conv2D(filter_num, (filter_size, filter_size),\n",
    "                   input_shape=(res_x-6*(filter_size//2), res_y-6*(filter_size//2), 70),\n",
    "                   padding='valid', name=f'S1_C21_{j}'))\n",
    "    seq.add(BatchNormalization(axis=-1, name=f'S1_BN1_{j}'))\n",
    "    seq.add(Activation('relu'))\n",
    "\n",
    "    seq.add(Conv2D(filter_num, (filter_size, filter_size),\n",
    "                   input_shape=(res_x-8*(filter_size//2), res_y-8*(filter_size//2), 70),\n",
    "                   padding='valid', name=f'S1_C12_{j}', activation='relu'))\n",
    "    seq.add(Conv2D(filter_num, (filter_size, filter_size),\n",
    "                   input_shape=(res_x-10*(filter_size//2), res_y-10*(filter_size//2), 70),\n",
    "                   padding='valid', name=f'S1_C22_{j}'))\n",
    "    seq.add(BatchNormalization(axis=-1, name=f'S1_BN2_{j}'))\n",
    "    seq.add(Activation('relu'))\n",
    "    layer1_multistream.instance += 1\n",
    "    seq.trainable = True\n",
    "    return seq\n",
    "\n",
    "\n",
    "def efficientnet(filter_num):\n",
    "    \"\"\"\n",
    "    Merged layer: Conv - ReLU - Conv - ReLU - BN\n",
    "\n",
    "    :return: seq:\n",
    "    \"\"\"\n",
    "    block_config = efficientnet_model.BlockConfig()\n",
    "    \n",
    "    blocks =  (# (input_filters, output_filters, kernel_size, num_repeat,\n",
    "              #  expand_ratio, strides, se_ratio)\n",
    "              block_config.from_args(140, 70, 3, 1, 1, (1, 1), 0.25),\n",
    "              block_config.from_args(70, 50, 3, 2, 6, (2, 2), 0.25),\n",
    "              block_config.from_args(50, 40, 5, 2, 6, (2, 2), 0.25),\n",
    "              block_config.from_args(40, 80, 3, 3, 6, (2, 2), 0.25),\n",
    "              block_config.from_args(80, 112, 5, 3, 6, (1, 1), 0.25),\n",
    "              block_config.from_args(112, 192, 5, 4, 6, (2, 2), 0.25),\n",
    "              block_config.from_args(192, 320, 3, 1, 6, (1, 1), 0.25),\n",
    "             )\n",
    "\n",
    "    seq = efficientnet_model.EfficientNet(overrides={'num_classes': 3,\n",
    "                                                     'input_channels': filter_num*2,\n",
    "                                                     'rescale_input': False,\n",
    "                                                     'blocks':blocks,\n",
    "                                                     'width_coefficient':1.0,\n",
    "                                                     'stem_base_filters':140})\n",
    "    seq.trainable = True\n",
    "    return seq\n",
    "\n",
    "\n",
    "def define_epidef(sz_input1, sz_input2, view_n, filter_num):\n",
    "    \"\"\"\n",
    "    Compiles the full network.\n",
    "\n",
    "    :param sz_input1: resX\n",
    "    :param sz_input2: resY\n",
    "    :param view_n: num_cams\n",
    "    :param filter_num: number of channels in multistream layers\n",
    "    :return:\n",
    "    \"\"\"\n",
    "    # 2-Input: Conv - ReLU - Conv - ReLU - BN\n",
    "    input_stack_vert = Input(shape=(sz_input1, sz_input2, view_n), name='input_stack_vert')\n",
    "    input_stack_hori = Input(shape=(sz_input1, sz_input2, view_n), name='input_stack_hori')\n",
    "\n",
    "    # 2-Stream layer: Conv - ReLU - Conv - ReLU - BN\n",
    "    mid_vert = layer1_multistream(sz_input1, sz_input2, view_n, filter_num, 5)(input_stack_vert)\n",
    "    mid_hori = layer1_multistream(sz_input1, sz_input2, view_n, filter_num, 5)(input_stack_hori)\n",
    "\n",
    "    # Merge layers\n",
    "    mid_merged = concatenate([mid_vert, mid_hori])\n",
    "    mid_merged_ = efficientnet(filter_num)\n",
    "\n",
    "    output = mid_merged_(mid_merged)\n",
    "    model_512 = Model(inputs=[input_stack_vert, input_stack_hori], outputs=[output])\n",
    "    metrics = ['accuracy',\n",
    "               tf.keras.metrics.Precision(name='precision'),\n",
    "               tf.keras.metrics.Recall(name='recall')]\n",
    "    model_512.compile(loss='categorical_crossentropy', optimizer='adam', metrics=metrics)\n",
    "    model_512.summary()\n",
    "    return model_512\n"
   ]
  },
  {
   "cell_type": "code",
   "execution_count": 14,
   "metadata": {},
   "outputs": [
    {
     "name": "stdout",
     "output_type": "stream",
     "text": [
      "Loading lightfield paths...\n",
      "Good: 0.5763846622032867\n",
      "Scratch: 0.21343071616960843\n",
      "Dent: 0.21018462162710488\n",
      "Error: 0.0\n",
      "Done loading lightfield paths.\n",
      "Model: \"functional_9\"\n",
      "__________________________________________________________________________________________________\n",
      "Layer (type)                    Output Shape         Param #     Connected to                     \n",
      "==================================================================================================\n",
      "input_stack_vert (InputLayer)   [(None, 248, 248, 7) 0                                            \n",
      "__________________________________________________________________________________________________\n",
      "input_stack_hori (InputLayer)   [(None, 248, 248, 7) 0                                            \n",
      "__________________________________________________________________________________________________\n",
      "sequential_10 (Sequential)      (None, 224, 224, 70) 626010      input_stack_vert[0][0]           \n",
      "__________________________________________________________________________________________________\n",
      "sequential_11 (Sequential)      (None, 224, 224, 70) 626010      input_stack_hori[0][0]           \n",
      "__________________________________________________________________________________________________\n",
      "tf_op_layer_concat_5 (TensorFlo [(None, 224, 224, 14 0           sequential_10[0][0]              \n",
      "                                                                 sequential_11[0][0]              \n",
      "__________________________________________________________________________________________________\n",
      "efficientnet (EfficientNet)     (None, 3)            4379733     tf_op_layer_concat_5[0][0]       \n",
      "==================================================================================================\n",
      "Total params: 5,631,753\n",
      "Trainable params: 5,585,745\n",
      "Non-trainable params: 46,008\n",
      "__________________________________________________________________________________________________\n"
     ]
    }
   ],
   "source": [
    "import os\n",
    "import datetime\n",
    "import numpy as np\n",
    "\n",
    "import tensorflow as tf\n",
    "from tensorflow import keras\n",
    "from epidef_fun.util import get_list_ids\n",
    "from epidef_fun.DataGenerator import DataGenerator\n",
    "\n",
    "\n",
    "network_name = 'EPIDef_train'\n",
    "iter00 = 0\n",
    "load_weights = False\n",
    "\"\"\"\n",
    "Model parameters:\n",
    "    first layer:  3 convolutional blocks\n",
    "    second layer: 6 convolutional blocks\n",
    "    last layer:   1 dense block?\n",
    "\"\"\"\n",
    "model_filter_number = 70\n",
    "model_learning_rate = 1e-5\n",
    "batch_size = 2\n",
    "input_res = 248\n",
    "\n",
    "\n",
    "\n",
    "# Load training data from lightfield .png files:\n",
    "print(\"Loading lightfield paths...\")\n",
    "dir_lf_images = (\"C:\\\\Users\\\\rmueller\\\\Google Drive\\\\University\\\\Master_Project\"\n",
    "                 + \"\\\\data_storage\\\\lightfields_nohdr\")\n",
    "# dir_lf_images = (\"C:\\\\Users\\\\muell\\\\Desktop\\\\blender_output_tmp\")\n",
    "list_ids = get_list_ids(dir_lf_images)[:500]\n",
    "\n",
    "print(\"Done loading lightfield paths.\")\n",
    "fraction = np.int(len(list_ids)*0.7)\n",
    "list_ids_train, list_ids_test = list_ids[:fraction], list_ids[fraction:]\n",
    "\n",
    "model = define_epidef(input_res, input_res, 7, model_filter_number)\n",
    "\n",
    "generator_train = DataGenerator(list_ids_train, batch_size=batch_size, train=False)\n",
    "generator_test = DataGenerator(list_ids_test, batch_size=batch_size, train=False)"
   ]
  },
  {
   "cell_type": "code",
   "execution_count": 15,
   "metadata": {},
   "outputs": [
    {
     "name": "stdout",
     "output_type": "stream",
     "text": [
      "Epoch 1/10\n",
      "WARNING:tensorflow:Callbacks method `on_train_batch_end` is slow compared to the batch time (batch time: 0.1659s vs `on_train_batch_end` time: 0.3098s). Check your callbacks.\n"
     ]
    },
    {
     "name": "stderr",
     "output_type": "stream",
     "text": [
      "WARNING:tensorflow:Callbacks method `on_train_batch_end` is slow compared to the batch time (batch time: 0.1659s vs `on_train_batch_end` time: 0.3098s). Check your callbacks.\n"
     ]
    },
    {
     "name": "stdout",
     "output_type": "stream",
     "text": [
      "175/175 - 109s - loss: 5.1439 - accuracy: 0.3857 - precision: 0.3844 - recall: 0.3800 - val_loss: 1469.1959 - val_accuracy: 0.3200 - val_precision: 0.3200 - val_recall: 0.3200\n",
      "Epoch 2/10\n",
      "175/175 - 115s - loss: 1.9547 - accuracy: 0.4543 - precision: 0.4540 - recall: 0.4086 - val_loss: 1.6020 - val_accuracy: 0.4800 - val_precision: 0.4892 - val_recall: 0.4533\n",
      "Epoch 3/10\n",
      "175/175 - 117s - loss: 1.7330 - accuracy: 0.4514 - precision: 0.4339 - recall: 0.3657 - val_loss: 1.5906 - val_accuracy: 0.5000 - val_precision: 0.4966 - val_recall: 0.4933\n",
      "Epoch 4/10\n",
      "175/175 - 118s - loss: 1.7381 - accuracy: 0.4171 - precision: 0.4238 - recall: 0.3657 - val_loss: 2.3275 - val_accuracy: 0.3800 - val_precision: 0.3511 - val_recall: 0.3067\n",
      "Epoch 5/10\n",
      "175/175 - 117s - loss: 1.5325 - accuracy: 0.4600 - precision: 0.4764 - recall: 0.4029 - val_loss: 2.0476 - val_accuracy: 0.5067 - val_precision: 0.5000 - val_recall: 0.4867\n",
      "Epoch 6/10\n",
      "175/175 - 119s - loss: 1.5638 - accuracy: 0.4400 - precision: 0.4343 - recall: 0.3400 - val_loss: 1.3808 - val_accuracy: 0.5133 - val_precision: 0.4951 - val_recall: 0.3400\n",
      "Epoch 7/10\n",
      "175/175 - 117s - loss: 1.4933 - accuracy: 0.4771 - precision: 0.4864 - recall: 0.4086 - val_loss: 1.8090 - val_accuracy: 0.4867 - val_precision: 0.4899 - val_recall: 0.4867\n",
      "Epoch 8/10\n",
      "175/175 - 117s - loss: 1.3431 - accuracy: 0.4714 - precision: 0.5247 - recall: 0.3943 - val_loss: 1.4025 - val_accuracy: 0.5200 - val_precision: 0.5238 - val_recall: 0.5133\n",
      "Epoch 9/10\n",
      "175/175 - 120s - loss: 1.4075 - accuracy: 0.4486 - precision: 0.4599 - recall: 0.3600 - val_loss: 1.3853 - val_accuracy: 0.5200 - val_precision: 0.5200 - val_recall: 0.5200\n",
      "Epoch 10/10\n",
      "175/175 - 127s - loss: 1.3925 - accuracy: 0.4886 - precision: 0.5341 - recall: 0.4257 - val_loss: 1.3382 - val_accuracy: 0.4933 - val_precision: 0.5000 - val_recall: 0.3600\n"
     ]
    },
    {
     "data": {
      "text/plain": [
       "<tensorflow.python.keras.callbacks.History at 0x1a864a7a160>"
      ]
     },
     "execution_count": 15,
     "metadata": {},
     "output_type": "execute_result"
    }
   ],
   "source": [
    "model.fit(generator_train, epochs=10, max_queue_size=10, initial_epoch=iter00, verbose=2,\n",
    "          validation_data=generator_test)"
   ]
  },
  {
   "cell_type": "code",
   "execution_count": 3,
   "metadata": {},
   "outputs": [
    {
     "name": "stdout",
     "output_type": "stream",
     "text": [
      "Epoch 1/10\n",
      "350/350 - 104s - loss: 1.2345 - accuracy: 0.4800 - precision: 0.5185 - recall: 0.3600 - val_loss: 2.0382 - val_accuracy: 0.4000 - val_precision: 0.4014 - val_recall: 0.3933\n",
      "Epoch 2/10\n",
      "350/350 - 104s - loss: 1.2405 - accuracy: 0.5114 - precision: 0.5142 - recall: 0.3629 - val_loss: 2.4123 - val_accuracy: 0.4867 - val_precision: 0.4861 - val_recall: 0.4667\n",
      "Epoch 3/10\n",
      "350/350 - 104s - loss: 1.2125 - accuracy: 0.5171 - precision: 0.5434 - recall: 0.4114 - val_loss: 4.3511 - val_accuracy: 0.3867 - val_precision: 0.3986 - val_recall: 0.3800\n",
      "Epoch 4/10\n",
      "350/350 - 103s - loss: 1.2821 - accuracy: 0.5000 - precision: 0.5212 - recall: 0.3514 - val_loss: 1.4194 - val_accuracy: 0.5133 - val_precision: 0.5468 - val_recall: 0.5067\n",
      "Epoch 5/10\n",
      "350/350 - 104s - loss: 1.2506 - accuracy: 0.4943 - precision: 0.5414 - recall: 0.4114 - val_loss: 5.1366 - val_accuracy: 0.4933 - val_precision: 0.4933 - val_recall: 0.4933\n",
      "Epoch 6/10\n",
      "350/350 - 106s - loss: 1.2436 - accuracy: 0.5057 - precision: 0.4980 - recall: 0.3571 - val_loss: 60.2841 - val_accuracy: 0.3733 - val_precision: 0.3758 - val_recall: 0.3733\n",
      "Epoch 7/10\n",
      "350/350 - 104s - loss: 1.2042 - accuracy: 0.4914 - precision: 0.5400 - recall: 0.3857 - val_loss: 7.4781 - val_accuracy: 0.4667 - val_precision: 0.4698 - val_recall: 0.4667\n",
      "Epoch 8/10\n",
      "350/350 - 103s - loss: 1.2193 - accuracy: 0.4629 - precision: 0.5478 - recall: 0.3600 - val_loss: 1.5045 - val_accuracy: 0.5600 - val_precision: 0.5608 - val_recall: 0.5533\n",
      "Epoch 9/10\n",
      "350/350 - 104s - loss: 1.1978 - accuracy: 0.5143 - precision: 0.5410 - recall: 0.4143 - val_loss: 1.8319 - val_accuracy: 0.3933 - val_precision: 0.4173 - val_recall: 0.3533\n",
      "Epoch 10/10\n",
      "350/350 - 103s - loss: 1.2111 - accuracy: 0.5143 - precision: 0.5251 - recall: 0.3886 - val_loss: 9.9599 - val_accuracy: 0.3933 - val_precision: 0.3960 - val_recall: 0.3933\n"
     ]
    },
    {
     "data": {
      "text/plain": [
       "<tensorflow.python.keras.callbacks.History at 0x1d810164550>"
      ]
     },
     "execution_count": 3,
     "metadata": {},
     "output_type": "execute_result"
    }
   ],
   "source": [
    "model.fit(generator_train, epochs=10, max_queue_size=10, initial_epoch=iter00, verbose=2,\n",
    "          validation_data=generator_test)"
   ]
  },
  {
   "cell_type": "code",
   "execution_count": 22,
   "metadata": {},
   "outputs": [],
   "source": [
    "model.layers[5].trainable = False"
   ]
  },
  {
   "cell_type": "code",
   "execution_count": 23,
   "metadata": {},
   "outputs": [
    {
     "name": "stdout",
     "output_type": "stream",
     "text": [
      "Model: \"functional_1\"\n",
      "__________________________________________________________________________________________________\n",
      "Layer (type)                    Output Shape         Param #     Connected to                     \n",
      "==================================================================================================\n",
      "input_stack_vert (InputLayer)   [(None, 248, 248, 7) 0                                            \n",
      "__________________________________________________________________________________________________\n",
      "input_stack_hori (InputLayer)   [(None, 248, 248, 7) 0                                            \n",
      "__________________________________________________________________________________________________\n",
      "sequential (Sequential)         (None, 224, 224, 70) 626010      input_stack_vert[0][0]           \n",
      "__________________________________________________________________________________________________\n",
      "sequential_1 (Sequential)       (None, 224, 224, 70) 626010      input_stack_hori[0][0]           \n",
      "__________________________________________________________________________________________________\n",
      "tf_op_layer_concat (TensorFlowO [(None, 224, 224, 14 0           sequential[0][0]                 \n",
      "                                                                 sequential_1[0][0]               \n",
      "__________________________________________________________________________________________________\n",
      "efficientnet (EfficientNet)     (None, 3)            4092863     tf_op_layer_concat[0][0]         \n",
      "==================================================================================================\n",
      "Total params: 5,344,883\n",
      "Trainable params: 1,251,180\n",
      "Non-trainable params: 4,093,703\n",
      "__________________________________________________________________________________________________\n"
     ]
    }
   ],
   "source": [
    "model.summary()"
   ]
  },
  {
   "cell_type": "code",
   "execution_count": 25,
   "metadata": {},
   "outputs": [
    {
     "name": "stdout",
     "output_type": "stream",
     "text": [
      "Epoch 1/10\n",
      "350/350 - 96s - loss: 1.1413 - accuracy: 0.5314 - precision: 0.5551 - recall: 0.4029 - val_loss: 1.3251 - val_accuracy: 0.5067 - val_precision: 0.5303 - val_recall: 0.4667\n",
      "Epoch 2/10\n",
      "350/350 - 105s - loss: 1.1601 - accuracy: 0.5114 - precision: 0.5588 - recall: 0.3800 - val_loss: 2.0344 - val_accuracy: 0.5133 - val_precision: 0.5205 - val_recall: 0.5067\n",
      "Epoch 3/10\n",
      "350/350 - 104s - loss: 1.1947 - accuracy: 0.5086 - precision: 0.5043 - recall: 0.3371 - val_loss: 3.1262 - val_accuracy: 0.5533 - val_precision: 0.5503 - val_recall: 0.5467\n",
      "Epoch 4/10\n",
      "350/350 - 106s - loss: 1.1556 - accuracy: 0.4886 - precision: 0.5360 - recall: 0.3400 - val_loss: 3.8099 - val_accuracy: 0.5333 - val_precision: 0.5479 - val_recall: 0.5333\n",
      "Epoch 5/10\n",
      "350/350 - 109s - loss: 1.1538 - accuracy: 0.5200 - precision: 0.5641 - recall: 0.3771 - val_loss: 21.0260 - val_accuracy: 0.4133 - val_precision: 0.4122 - val_recall: 0.4067\n",
      "Epoch 6/10\n",
      "350/350 - 116s - loss: 1.1821 - accuracy: 0.4914 - precision: 0.5000 - recall: 0.3686 - val_loss: 1.1766 - val_accuracy: 0.5933 - val_precision: 0.6181 - val_recall: 0.5933\n",
      "Epoch 7/10\n",
      "350/350 - 110s - loss: 1.1446 - accuracy: 0.5114 - precision: 0.5250 - recall: 0.3600 - val_loss: 4.6209 - val_accuracy: 0.3800 - val_precision: 0.3846 - val_recall: 0.3667\n",
      "Epoch 8/10\n",
      "350/350 - 111s - loss: 1.1335 - accuracy: 0.5286 - precision: 0.5640 - recall: 0.4029 - val_loss: 5.9727 - val_accuracy: 0.3800 - val_precision: 0.3841 - val_recall: 0.3533\n",
      "Epoch 9/10\n",
      "350/350 - 109s - loss: 1.1537 - accuracy: 0.5143 - precision: 0.5381 - recall: 0.3629 - val_loss: 7.1469 - val_accuracy: 0.2333 - val_precision: 0.2414 - val_recall: 0.2333\n",
      "Epoch 10/10\n",
      "350/350 - 109s - loss: 1.1462 - accuracy: 0.5029 - precision: 0.5339 - recall: 0.3600 - val_loss: 22.5942 - val_accuracy: 0.2667 - val_precision: 0.2703 - val_recall: 0.2667\n"
     ]
    },
    {
     "data": {
      "text/plain": [
       "<tensorflow.python.keras.callbacks.History at 0x1d807fc7cd0>"
      ]
     },
     "execution_count": 25,
     "metadata": {},
     "output_type": "execute_result"
    }
   ],
   "source": [
    "model.fit(generator_train, epochs=10, max_queue_size=10, initial_epoch=iter00, verbose=2,\n",
    "          validation_data=generator_test)"
   ]
  },
  {
   "cell_type": "code",
   "execution_count": 31,
   "metadata": {},
   "outputs": [
    {
     "name": "stdout",
     "output_type": "stream",
     "text": [
      "Model: \"functional_1\"\n",
      "__________________________________________________________________________________________________\n",
      "Layer (type)                    Output Shape         Param #     Connected to                     \n",
      "==================================================================================================\n",
      "input_stack_vert (InputLayer)   [(None, 248, 248, 7) 0                                            \n",
      "__________________________________________________________________________________________________\n",
      "input_stack_hori (InputLayer)   [(None, 248, 248, 7) 0                                            \n",
      "__________________________________________________________________________________________________\n",
      "sequential (Sequential)         (None, 224, 224, 70) 626010      input_stack_vert[0][0]           \n",
      "__________________________________________________________________________________________________\n",
      "sequential_1 (Sequential)       (None, 224, 224, 70) 626010      input_stack_hori[0][0]           \n",
      "__________________________________________________________________________________________________\n",
      "tf_op_layer_concat (TensorFlowO [(None, 224, 224, 14 0           sequential[0][0]                 \n",
      "                                                                 sequential_1[0][0]               \n",
      "__________________________________________________________________________________________________\n",
      "efficientnet (EfficientNet)     (None, 3)            4092863     tf_op_layer_concat[0][0]         \n",
      "==================================================================================================\n",
      "Total params: 5,344,883\n",
      "Trainable params: 4,050,847\n",
      "Non-trainable params: 1,294,036\n",
      "__________________________________________________________________________________________________\n"
     ]
    }
   ],
   "source": [
    "model.layers[2].trainable = False\n",
    "model.layers[3].trainable = False\n",
    "model.summary()"
   ]
  },
  {
   "cell_type": "code",
   "execution_count": 39,
   "metadata": {},
   "outputs": [
    {
     "name": "stdout",
     "output_type": "stream",
     "text": [
      "Good: 0.551051051051051\n",
      "Scratch: 0.22447447447447447\n",
      "Dent: 0.22447447447447447\n",
      "Error: 0.0\n",
      "Done loading lightfield paths.\n",
      "Model: \"functional_1\"\n",
      "__________________________________________________________________________________________________\n",
      "Layer (type)                    Output Shape         Param #     Connected to                     \n",
      "==================================================================================================\n",
      "input_stack_vert (InputLayer)   [(None, 248, 248, 7) 0                                            \n",
      "__________________________________________________________________________________________________\n",
      "input_stack_hori (InputLayer)   [(None, 248, 248, 7) 0                                            \n",
      "__________________________________________________________________________________________________\n",
      "sequential (Sequential)         (None, 224, 224, 70) 626010      input_stack_vert[0][0]           \n",
      "__________________________________________________________________________________________________\n",
      "sequential_1 (Sequential)       (None, 224, 224, 70) 626010      input_stack_hori[0][0]           \n",
      "__________________________________________________________________________________________________\n",
      "tf_op_layer_concat (TensorFlowO [(None, 224, 224, 14 0           sequential[0][0]                 \n",
      "                                                                 sequential_1[0][0]               \n",
      "__________________________________________________________________________________________________\n",
      "efficientnet (EfficientNet)     (None, 3)            4092863     tf_op_layer_concat[0][0]         \n",
      "==================================================================================================\n",
      "Total params: 5,344,883\n",
      "Trainable params: 5,302,027\n",
      "Non-trainable params: 42,856\n",
      "__________________________________________________________________________________________________\n",
      "Epoch 1/10\n",
      "70/70 - 48s - loss: 0.6731 - accuracy: 0.7429 - precision: 0.7576 - recall: 0.7143 - val_loss: 2.5899 - val_accuracy: 0.2000 - val_precision: 0.2069 - val_recall: 0.2000\n",
      "Epoch 2/10\n",
      "70/70 - 52s - loss: 0.6913 - accuracy: 0.7857 - precision: 0.7971 - recall: 0.7857 - val_loss: 3.1862 - val_accuracy: 0.2000 - val_precision: 0.2143 - val_recall: 0.2000\n",
      "Epoch 3/10\n",
      "70/70 - 52s - loss: 0.6036 - accuracy: 0.8000 - precision: 0.8030 - recall: 0.7571 - val_loss: 3.4475 - val_accuracy: 0.2667 - val_precision: 0.2759 - val_recall: 0.2667\n",
      "Epoch 4/10\n",
      "70/70 - 55s - loss: 0.5889 - accuracy: 0.7857 - precision: 0.8088 - recall: 0.7857 - val_loss: 3.8159 - val_accuracy: 0.3000 - val_precision: 0.3000 - val_recall: 0.3000\n",
      "Epoch 5/10\n",
      "70/70 - 31s - loss: 0.7037 - accuracy: 0.8000 - precision: 0.8209 - recall: 0.7857 - val_loss: 3.5420 - val_accuracy: 0.2667 - val_precision: 0.2667 - val_recall: 0.2667\n",
      "Epoch 6/10\n",
      "70/70 - 23s - loss: 0.8264 - accuracy: 0.7000 - precision: 0.7460 - recall: 0.6714 - val_loss: 4.3885 - val_accuracy: 0.2333 - val_precision: 0.2333 - val_recall: 0.2333\n",
      "Epoch 7/10\n",
      "70/70 - 23s - loss: 0.5668 - accuracy: 0.8143 - precision: 0.8088 - recall: 0.7857 - val_loss: 3.7593 - val_accuracy: 0.2333 - val_precision: 0.2069 - val_recall: 0.2000\n",
      "Epoch 8/10\n",
      "70/70 - 24s - loss: 0.4216 - accuracy: 0.9143 - precision: 0.9143 - recall: 0.9143 - val_loss: 3.1504 - val_accuracy: 0.3000 - val_precision: 0.2759 - val_recall: 0.2667\n",
      "Epoch 9/10\n",
      "70/70 - 23s - loss: 0.2820 - accuracy: 0.9000 - precision: 0.9000 - recall: 0.9000 - val_loss: 4.5278 - val_accuracy: 0.1667 - val_precision: 0.1667 - val_recall: 0.1667\n",
      "Epoch 10/10\n",
      "70/70 - 23s - loss: 0.3477 - accuracy: 0.9000 - precision: 0.9265 - recall: 0.9000 - val_loss: 4.5309 - val_accuracy: 0.3000 - val_precision: 0.2759 - val_recall: 0.2667\n"
     ]
    },
    {
     "data": {
      "text/plain": [
       "<tensorflow.python.keras.callbacks.History at 0x1da2ea8aee0>"
      ]
     },
     "execution_count": 39,
     "metadata": {},
     "output_type": "execute_result"
    }
   ],
   "source": [
    "dir_lf_images = (\"C:\\\\Users\\\\muell\\\\Desktop\\\\blender_output_tmp\")\n",
    "list_IDs = get_list_IDs(dir_lf_images)[:200]\n",
    "\n",
    "print(\"Done loading lightfield paths.\")\n",
    "fraction = np.int(len(list_IDs)*0.7)\n",
    "list_IDs_train, list_IDs_test = list_IDs[:fraction], list_IDs[fraction:]\n",
    "\n",
    "generator_train = DataGenerator(list_IDs_train, batch_size=batch_size, train=False)\n",
    "generator_test = DataGenerator(list_IDs_test, batch_size=batch_size, train=False)\n",
    "model.trainable = True\n",
    "model.summary()\n",
    "\n",
    "model.fit(generator_train, epochs=10, max_queue_size=10, initial_epoch=iter00, verbose=2,\n",
    "          validation_data=generator_test)"
   ]
  },
  {
   "cell_type": "code",
   "execution_count": 42,
   "metadata": {},
   "outputs": [],
   "source": [
    "model.layers[2].trainable = False\n",
    "model.layers[3].trainable = False"
   ]
  },
  {
   "cell_type": "code",
   "execution_count": 45,
   "metadata": {},
   "outputs": [
    {
     "name": "stdout",
     "output_type": "stream",
     "text": [
      "Good: 0.551051051051051\n",
      "Scratch: 0.22447447447447447\n",
      "Dent: 0.22447447447447447\n",
      "Error: 0.0\n",
      "Done loading lightfield paths.\n",
      "Model: \"functional_1\"\n",
      "__________________________________________________________________________________________________\n",
      "Layer (type)                    Output Shape         Param #     Connected to                     \n",
      "==================================================================================================\n",
      "input_stack_vert (InputLayer)   [(None, 248, 248, 7) 0                                            \n",
      "__________________________________________________________________________________________________\n",
      "input_stack_hori (InputLayer)   [(None, 248, 248, 7) 0                                            \n",
      "__________________________________________________________________________________________________\n",
      "sequential (Sequential)         (None, 224, 224, 70) 626010      input_stack_vert[0][0]           \n",
      "__________________________________________________________________________________________________\n",
      "sequential_1 (Sequential)       (None, 224, 224, 70) 626010      input_stack_hori[0][0]           \n",
      "__________________________________________________________________________________________________\n",
      "tf_op_layer_concat (TensorFlowO [(None, 224, 224, 14 0           sequential[0][0]                 \n",
      "                                                                 sequential_1[0][0]               \n",
      "__________________________________________________________________________________________________\n",
      "efficientnet (EfficientNet)     (None, 3)            4092863     tf_op_layer_concat[0][0]         \n",
      "==================================================================================================\n",
      "Total params: 5,344,883\n",
      "Trainable params: 5,302,027\n",
      "Non-trainable params: 42,856\n",
      "__________________________________________________________________________________________________\n",
      "Epoch 1/20\n",
      "280/280 - 83s - loss: 1.2139 - accuracy: 0.5607 - precision: 0.5885 - recall: 0.5107 - val_loss: 5.5260 - val_accuracy: 0.2917 - val_precision: 0.2696 - val_recall: 0.2583\n",
      "Epoch 2/20\n",
      "280/280 - 85s - loss: 0.8985 - accuracy: 0.6643 - precision: 0.6895 - recall: 0.6107 - val_loss: 3.6777 - val_accuracy: 0.2917 - val_precision: 0.2807 - val_recall: 0.2667\n",
      "Epoch 3/20\n",
      "280/280 - 91s - loss: 0.8441 - accuracy: 0.6857 - precision: 0.6973 - recall: 0.6500 - val_loss: 3.1209 - val_accuracy: 0.3333 - val_precision: 0.3305 - val_recall: 0.3250\n",
      "Epoch 4/20\n",
      "280/280 - 90s - loss: 1.0834 - accuracy: 0.5679 - precision: 0.5714 - recall: 0.4857 - val_loss: 2.4070 - val_accuracy: 0.3417 - val_precision: 0.2929 - val_recall: 0.2417\n",
      "Epoch 5/20\n",
      "280/280 - 87s - loss: 0.9261 - accuracy: 0.6393 - precision: 0.6614 - recall: 0.5929 - val_loss: 2.3256 - val_accuracy: 0.3000 - val_precision: 0.2957 - val_recall: 0.2833\n",
      "Epoch 6/20\n",
      "280/280 - 88s - loss: 0.8448 - accuracy: 0.6786 - precision: 0.6969 - recall: 0.6321 - val_loss: 3.3662 - val_accuracy: 0.3417 - val_precision: 0.3514 - val_recall: 0.3250\n",
      "Epoch 7/20\n",
      "280/280 - 90s - loss: 1.0164 - accuracy: 0.5714 - precision: 0.5861 - recall: 0.5107 - val_loss: 2.1378 - val_accuracy: 0.2917 - val_precision: 0.2418 - val_recall: 0.1833\n",
      "Epoch 8/20\n",
      "280/280 - 90s - loss: 0.9576 - accuracy: 0.6393 - precision: 0.6420 - recall: 0.5571 - val_loss: 1.7354 - val_accuracy: 0.3250 - val_precision: 0.3333 - val_recall: 0.2583\n",
      "Epoch 9/20\n",
      "280/280 - 88s - loss: 0.9317 - accuracy: 0.6393 - precision: 0.6586 - recall: 0.5857 - val_loss: 2.2331 - val_accuracy: 0.3500 - val_precision: 0.3400 - val_recall: 0.2833\n",
      "Epoch 10/20\n",
      "280/280 - 88s - loss: 0.8947 - accuracy: 0.6714 - precision: 0.6938 - recall: 0.6393 - val_loss: 2.3314 - val_accuracy: 0.3250 - val_precision: 0.3182 - val_recall: 0.2917\n",
      "Epoch 11/20\n",
      "280/280 - 88s - loss: 0.8770 - accuracy: 0.6679 - precision: 0.7108 - recall: 0.6321 - val_loss: 5.8213 - val_accuracy: 0.2750 - val_precision: 0.2523 - val_recall: 0.2333\n",
      "Epoch 12/20\n",
      "280/280 - 89s - loss: 0.7854 - accuracy: 0.7143 - precision: 0.7241 - recall: 0.6750 - val_loss: 4.4074 - val_accuracy: 0.2833 - val_precision: 0.2906 - val_recall: 0.2833\n",
      "Epoch 13/20\n",
      "280/280 - 88s - loss: 0.7537 - accuracy: 0.7607 - precision: 0.7769 - recall: 0.7214 - val_loss: 4.5176 - val_accuracy: 0.2500 - val_precision: 0.2411 - val_recall: 0.2250\n",
      "Epoch 14/20\n",
      "280/280 - 90s - loss: 0.7981 - accuracy: 0.7071 - precision: 0.7403 - recall: 0.6821 - val_loss: 4.1887 - val_accuracy: 0.4000 - val_precision: 0.4034 - val_recall: 0.4000\n",
      "Epoch 15/20\n",
      "280/280 - 91s - loss: 0.7618 - accuracy: 0.7250 - precision: 0.7628 - recall: 0.6893 - val_loss: 3.9582 - val_accuracy: 0.3583 - val_precision: 0.3571 - val_recall: 0.3333\n",
      "Epoch 16/20\n",
      "280/280 - 87s - loss: 0.6946 - accuracy: 0.7786 - precision: 0.7962 - recall: 0.7536 - val_loss: 3.8019 - val_accuracy: 0.3250 - val_precision: 0.2909 - val_recall: 0.2667\n",
      "Epoch 17/20\n",
      "280/280 - 88s - loss: 0.6871 - accuracy: 0.7643 - precision: 0.7782 - recall: 0.7393 - val_loss: 4.4098 - val_accuracy: 0.3083 - val_precision: 0.2857 - val_recall: 0.2667\n",
      "Epoch 18/20\n",
      "280/280 - 88s - loss: 0.5477 - accuracy: 0.8179 - precision: 0.8303 - recall: 0.8036 - val_loss: 4.3733 - val_accuracy: 0.3250 - val_precision: 0.3305 - val_recall: 0.3250\n",
      "Epoch 19/20\n",
      "280/280 - 86s - loss: 0.6634 - accuracy: 0.8036 - precision: 0.8162 - recall: 0.7929 - val_loss: 4.5786 - val_accuracy: 0.3167 - val_precision: 0.2963 - val_recall: 0.2667\n",
      "Epoch 20/20\n",
      "280/280 - 87s - loss: 0.6423 - accuracy: 0.8107 - precision: 0.8229 - recall: 0.7964 - val_loss: 4.3720 - val_accuracy: 0.3333 - val_precision: 0.3153 - val_recall: 0.2917\n"
     ]
    },
    {
     "data": {
      "text/plain": [
       "<tensorflow.python.keras.callbacks.History at 0x1da28d14a90>"
      ]
     },
     "execution_count": 45,
     "metadata": {},
     "output_type": "execute_result"
    }
   ],
   "source": [
    "list_IDs = get_list_IDs(dir_lf_images)[:400]\n",
    "\n",
    "print(\"Done loading lightfield paths.\")\n",
    "fraction = np.int(len(list_IDs)*0.7)\n",
    "list_IDs_train, list_IDs_test = list_IDs[:fraction], list_IDs[fraction:]\n",
    "\n",
    "generator_train = DataGenerator(list_IDs_train, batch_size=batch_size, train=False)\n",
    "generator_test = DataGenerator(list_IDs_test, batch_size=batch_size, train=False)\n",
    "model.trainable = True\n",
    "model.summary()\n",
    "\n",
    "model.fit(generator_train, epochs=20, max_queue_size=10, initial_epoch=iter00, verbose=2,\n",
    "          validation_data=generator_test)"
   ]
  },
  {
   "cell_type": "code",
   "execution_count": 46,
   "metadata": {},
   "outputs": [
    {
     "name": "stdout",
     "output_type": "stream",
     "text": [
      "Model: \"functional_1\"\n",
      "__________________________________________________________________________________________________\n",
      "Layer (type)                    Output Shape         Param #     Connected to                     \n",
      "==================================================================================================\n",
      "input_stack_vert (InputLayer)   [(None, 248, 248, 7) 0                                            \n",
      "__________________________________________________________________________________________________\n",
      "input_stack_hori (InputLayer)   [(None, 248, 248, 7) 0                                            \n",
      "__________________________________________________________________________________________________\n",
      "sequential (Sequential)         (None, 224, 224, 70) 626010      input_stack_vert[0][0]           \n",
      "__________________________________________________________________________________________________\n",
      "sequential_1 (Sequential)       (None, 224, 224, 70) 626010      input_stack_hori[0][0]           \n",
      "__________________________________________________________________________________________________\n",
      "tf_op_layer_concat (TensorFlowO [(None, 224, 224, 14 0           sequential[0][0]                 \n",
      "                                                                 sequential_1[0][0]               \n",
      "__________________________________________________________________________________________________\n",
      "efficientnet (EfficientNet)     (None, 3)            4092863     tf_op_layer_concat[0][0]         \n",
      "==================================================================================================\n",
      "Total params: 5,344,883\n",
      "Trainable params: 5,302,027\n",
      "Non-trainable params: 42,856\n",
      "__________________________________________________________________________________________________\n",
      "Epoch 1/5\n",
      "280/280 - 98s - loss: 0.4551 - accuracy: 0.8500 - precision: 0.8645 - recall: 0.8429 - val_loss: 3.9425 - val_accuracy: 0.4417 - val_precision: 0.4397 - val_recall: 0.4250\n",
      "Epoch 2/5\n",
      "280/280 - 93s - loss: 0.4140 - accuracy: 0.8929 - precision: 0.8982 - recall: 0.8821 - val_loss: 9.9539 - val_accuracy: 0.3500 - val_precision: 0.3445 - val_recall: 0.3417\n",
      "Epoch 3/5\n",
      "280/280 - 92s - loss: 0.4921 - accuracy: 0.8536 - precision: 0.8618 - recall: 0.8464 - val_loss: 4.1406 - val_accuracy: 0.3417 - val_precision: 0.3504 - val_recall: 0.3417\n",
      "Epoch 4/5\n",
      "280/280 - 89s - loss: 0.5488 - accuracy: 0.8214 - precision: 0.8358 - recall: 0.8179 - val_loss: 3.5178 - val_accuracy: 0.3917 - val_precision: 0.3727 - val_recall: 0.3417\n",
      "Epoch 5/5\n",
      "280/280 - 87s - loss: 0.4800 - accuracy: 0.8500 - precision: 0.8520 - recall: 0.8429 - val_loss: 4.8728 - val_accuracy: 0.3000 - val_precision: 0.2906 - val_recall: 0.2833\n"
     ]
    },
    {
     "data": {
      "text/plain": [
       "<tensorflow.python.keras.callbacks.History at 0x1da2eab2fd0>"
      ]
     },
     "execution_count": 46,
     "metadata": {},
     "output_type": "execute_result"
    }
   ],
   "source": [
    "model.trainable = True\n",
    "model.summary()\n",
    "\n",
    "model.fit(generator_train, epochs=5, max_queue_size=10, initial_epoch=iter00, verbose=2,\n",
    "          validation_data=generator_test)"
   ]
  },
  {
   "cell_type": "code",
   "execution_count": 47,
   "metadata": {},
   "outputs": [
    {
     "name": "stdout",
     "output_type": "stream",
     "text": [
      "Good: 0.551051051051051\n",
      "Scratch: 0.22447447447447447\n",
      "Dent: 0.22447447447447447\n",
      "Error: 0.0\n",
      "Done loading lightfield paths.\n",
      "Model: \"functional_1\"\n",
      "__________________________________________________________________________________________________\n",
      "Layer (type)                    Output Shape         Param #     Connected to                     \n",
      "==================================================================================================\n",
      "input_stack_vert (InputLayer)   [(None, 248, 248, 7) 0                                            \n",
      "__________________________________________________________________________________________________\n",
      "input_stack_hori (InputLayer)   [(None, 248, 248, 7) 0                                            \n",
      "__________________________________________________________________________________________________\n",
      "sequential (Sequential)         (None, 224, 224, 70) 626010      input_stack_vert[0][0]           \n",
      "__________________________________________________________________________________________________\n",
      "sequential_1 (Sequential)       (None, 224, 224, 70) 626010      input_stack_hori[0][0]           \n",
      "__________________________________________________________________________________________________\n",
      "tf_op_layer_concat (TensorFlowO [(None, 224, 224, 14 0           sequential[0][0]                 \n",
      "                                                                 sequential_1[0][0]               \n",
      "__________________________________________________________________________________________________\n",
      "efficientnet (EfficientNet)     (None, 3)            4092863     tf_op_layer_concat[0][0]         \n",
      "==================================================================================================\n",
      "Total params: 5,344,883\n",
      "Trainable params: 5,302,027\n",
      "Non-trainable params: 42,856\n",
      "__________________________________________________________________________________________________\n",
      "Epoch 1/20\n",
      "560/560 - 168s - loss: 1.0479 - accuracy: 0.6393 - precision: 0.6680 - recall: 0.5821 - val_loss: 2.2086 - val_accuracy: 0.3833 - val_precision: 0.3790 - val_recall: 0.3458\n",
      "Epoch 2/20\n",
      "560/560 - 175s - loss: 0.9370 - accuracy: 0.6607 - precision: 0.7082 - recall: 0.5893 - val_loss: 2.1070 - val_accuracy: 0.3167 - val_precision: 0.3256 - val_recall: 0.2917\n",
      "Epoch 3/20\n",
      "560/560 - 178s - loss: 0.9100 - accuracy: 0.6768 - precision: 0.7073 - recall: 0.6214 - val_loss: 2.0420 - val_accuracy: 0.2917 - val_precision: 0.2935 - val_recall: 0.2458\n",
      "Epoch 4/20\n",
      "560/560 - 178s - loss: 0.8481 - accuracy: 0.7089 - precision: 0.7495 - recall: 0.6571 - val_loss: 2.2652 - val_accuracy: 0.3500 - val_precision: 0.3418 - val_recall: 0.2792\n",
      "Epoch 5/20\n",
      "560/560 - 184s - loss: 0.8164 - accuracy: 0.7071 - precision: 0.7397 - recall: 0.6750 - val_loss: 2.1043 - val_accuracy: 0.3250 - val_precision: 0.3383 - val_recall: 0.2833\n",
      "Epoch 6/20\n",
      "560/560 - 178s - loss: 0.8163 - accuracy: 0.7250 - precision: 0.7476 - recall: 0.6875 - val_loss: 3.2246 - val_accuracy: 0.3333 - val_precision: 0.3436 - val_recall: 0.3250\n",
      "Epoch 7/20\n",
      "560/560 - 175s - loss: 0.7587 - accuracy: 0.7214 - precision: 0.7466 - recall: 0.6893 - val_loss: 3.0363 - val_accuracy: 0.3125 - val_precision: 0.3097 - val_recall: 0.2917\n",
      "Epoch 8/20\n",
      "560/560 - 177s - loss: 0.7887 - accuracy: 0.7357 - precision: 0.7548 - recall: 0.6982 - val_loss: 2.5409 - val_accuracy: 0.3250 - val_precision: 0.3108 - val_recall: 0.2875\n",
      "Epoch 9/20\n",
      "560/560 - 198s - loss: 0.7063 - accuracy: 0.7911 - precision: 0.8053 - recall: 0.7607 - val_loss: 2.2947 - val_accuracy: 0.4083 - val_precision: 0.4159 - val_recall: 0.3917\n",
      "Epoch 10/20\n",
      "560/560 - 186s - loss: 0.6620 - accuracy: 0.7804 - precision: 0.7910 - recall: 0.7571 - val_loss: 2.8722 - val_accuracy: 0.3792 - val_precision: 0.3789 - val_recall: 0.3583\n",
      "Epoch 11/20\n",
      "560/560 - 181s - loss: 0.5801 - accuracy: 0.8196 - precision: 0.8361 - recall: 0.8018 - val_loss: 3.1327 - val_accuracy: 0.3375 - val_precision: 0.3421 - val_recall: 0.3250\n",
      "Epoch 12/20\n",
      "560/560 - 177s - loss: 0.5112 - accuracy: 0.8536 - precision: 0.8585 - recall: 0.8339 - val_loss: 4.5306 - val_accuracy: 0.3542 - val_precision: 0.3534 - val_recall: 0.3417\n",
      "Epoch 13/20\n",
      "560/560 - 178s - loss: 0.5597 - accuracy: 0.8393 - precision: 0.8480 - recall: 0.8268 - val_loss: 3.5761 - val_accuracy: 0.3083 - val_precision: 0.2987 - val_recall: 0.2875\n",
      "Epoch 14/20\n",
      "560/560 - 172s - loss: 0.4507 - accuracy: 0.8750 - precision: 0.8909 - recall: 0.8607 - val_loss: 5.1098 - val_accuracy: 0.2958 - val_precision: 0.2983 - val_recall: 0.2958\n",
      "Epoch 15/20\n",
      "560/560 - 171s - loss: 0.5535 - accuracy: 0.8286 - precision: 0.8449 - recall: 0.8071 - val_loss: 4.4550 - val_accuracy: 0.3167 - val_precision: 0.3160 - val_recall: 0.3042\n",
      "Epoch 16/20\n",
      "560/560 - 169s - loss: 0.3696 - accuracy: 0.9125 - precision: 0.9176 - recall: 0.8946 - val_loss: 4.3335 - val_accuracy: 0.3500 - val_precision: 0.3493 - val_recall: 0.3333\n",
      "Epoch 17/20\n",
      "560/560 - 174s - loss: 0.4036 - accuracy: 0.8893 - precision: 0.8925 - recall: 0.8893 - val_loss: 5.0090 - val_accuracy: 0.3167 - val_precision: 0.3178 - val_recall: 0.3125\n",
      "Epoch 18/20\n",
      "560/560 - 171s - loss: 0.3993 - accuracy: 0.9018 - precision: 0.9076 - recall: 0.8946 - val_loss: 3.8713 - val_accuracy: 0.3500 - val_precision: 0.3475 - val_recall: 0.3417\n",
      "Epoch 19/20\n",
      "560/560 - 169s - loss: 0.3840 - accuracy: 0.9089 - precision: 0.9168 - recall: 0.9054 - val_loss: 4.5048 - val_accuracy: 0.3583 - val_precision: 0.3598 - val_recall: 0.3583\n",
      "Epoch 20/20\n",
      "560/560 - 170s - loss: 0.3914 - accuracy: 0.8964 - precision: 0.8978 - recall: 0.8946 - val_loss: 4.1592 - val_accuracy: 0.3333 - val_precision: 0.3319 - val_recall: 0.3250\n"
     ]
    },
    {
     "data": {
      "text/plain": [
       "<tensorflow.python.keras.callbacks.History at 0x1da2e4b0250>"
      ]
     },
     "execution_count": 47,
     "metadata": {},
     "output_type": "execute_result"
    }
   ],
   "source": [
    "list_IDs = get_list_IDs(dir_lf_images)[:800]\n",
    "\n",
    "print(\"Done loading lightfield paths.\")\n",
    "fraction = np.int(len(list_IDs)*0.7)\n",
    "list_IDs_train, list_IDs_test = list_IDs[:fraction], list_IDs[fraction:]\n",
    "\n",
    "generator_train = DataGenerator(list_IDs_train, batch_size=batch_size, train=False)\n",
    "generator_test = DataGenerator(list_IDs_test, batch_size=batch_size, train=False)\n",
    "model.trainable = True\n",
    "model.summary()\n",
    "\n",
    "model.fit(generator_train, epochs=20, max_queue_size=10, initial_epoch=iter00, verbose=2,\n",
    "          validation_data=generator_test)"
   ]
  },
  {
   "cell_type": "code",
   "execution_count": 48,
   "metadata": {},
   "outputs": [
    {
     "name": "stdout",
     "output_type": "stream",
     "text": [
      "Good: 0.551051051051051\n",
      "Scratch: 0.22447447447447447\n",
      "Dent: 0.22447447447447447\n",
      "Error: 0.0\n",
      "Done loading lightfield paths.\n",
      "Model: \"functional_1\"\n",
      "__________________________________________________________________________________________________\n",
      "Layer (type)                    Output Shape         Param #     Connected to                     \n",
      "==================================================================================================\n",
      "input_stack_vert (InputLayer)   [(None, 248, 248, 7) 0                                            \n",
      "__________________________________________________________________________________________________\n",
      "input_stack_hori (InputLayer)   [(None, 248, 248, 7) 0                                            \n",
      "__________________________________________________________________________________________________\n",
      "sequential (Sequential)         (None, 224, 224, 70) 626010      input_stack_vert[0][0]           \n",
      "__________________________________________________________________________________________________\n",
      "sequential_1 (Sequential)       (None, 224, 224, 70) 626010      input_stack_hori[0][0]           \n",
      "__________________________________________________________________________________________________\n",
      "tf_op_layer_concat (TensorFlowO [(None, 224, 224, 14 0           sequential[0][0]                 \n",
      "                                                                 sequential_1[0][0]               \n",
      "__________________________________________________________________________________________________\n",
      "efficientnet (EfficientNet)     (None, 3)            4092863     tf_op_layer_concat[0][0]         \n",
      "==================================================================================================\n",
      "Total params: 5,344,883\n",
      "Trainable params: 5,302,027\n",
      "Non-trainable params: 42,856\n",
      "__________________________________________________________________________________________________\n",
      "Epoch 1/20\n",
      "1120/1120 - 325s - loss: 1.0261 - accuracy: 0.6259 - precision: 0.6570 - recall: 0.5455 - val_loss: 2.0909 - val_accuracy: 0.3271 - val_precision: 0.3106 - val_recall: 0.2562\n",
      "Epoch 2/20\n",
      "1120/1120 - 332s - loss: 0.9521 - accuracy: 0.6562 - precision: 0.6971 - recall: 0.5857 - val_loss: 2.0445 - val_accuracy: 0.4125 - val_precision: 0.4110 - val_recall: 0.3896\n",
      "Epoch 3/20\n",
      "1120/1120 - 339s - loss: 0.9177 - accuracy: 0.6741 - precision: 0.6999 - recall: 0.6080 - val_loss: 2.7127 - val_accuracy: 0.3042 - val_precision: 0.2937 - val_recall: 0.2729\n",
      "Epoch 4/20\n",
      "1120/1120 - 339s - loss: 0.8970 - accuracy: 0.6768 - precision: 0.7069 - recall: 0.6116 - val_loss: 2.0034 - val_accuracy: 0.3812 - val_precision: 0.3802 - val_recall: 0.3208\n",
      "Epoch 5/20\n",
      "1120/1120 - 304s - loss: 0.8870 - accuracy: 0.6821 - precision: 0.7223 - recall: 0.6179 - val_loss: 2.1605 - val_accuracy: 0.3271 - val_precision: 0.3254 - val_recall: 0.2854\n",
      "Epoch 6/20\n",
      "1120/1120 - 310s - loss: 0.8044 - accuracy: 0.7143 - precision: 0.7352 - recall: 0.6643 - val_loss: 2.8207 - val_accuracy: 0.2979 - val_precision: 0.3007 - val_recall: 0.2750\n",
      "Epoch 7/20\n",
      "1120/1120 - 296s - loss: 0.7925 - accuracy: 0.7286 - precision: 0.7480 - recall: 0.6732 - val_loss: 2.1232 - val_accuracy: 0.3521 - val_precision: 0.3459 - val_recall: 0.3063\n",
      "Epoch 8/20\n",
      "1120/1120 - 296s - loss: 0.7634 - accuracy: 0.7393 - precision: 0.7623 - recall: 0.6929 - val_loss: 2.6083 - val_accuracy: 0.3021 - val_precision: 0.3080 - val_recall: 0.2875\n",
      "Epoch 9/20\n",
      "1120/1120 - 301s - loss: 0.7290 - accuracy: 0.7589 - precision: 0.7756 - recall: 0.7223 - val_loss: 3.4170 - val_accuracy: 0.2667 - val_precision: 0.2735 - val_recall: 0.2604\n",
      "Epoch 10/20\n",
      "1120/1120 - 302s - loss: 0.6863 - accuracy: 0.7696 - precision: 0.7929 - recall: 0.7348 - val_loss: 2.9918 - val_accuracy: 0.3396 - val_precision: 0.3356 - val_recall: 0.3146\n",
      "Epoch 11/20\n",
      "1120/1120 - 300s - loss: 0.6229 - accuracy: 0.7991 - precision: 0.8222 - recall: 0.7804 - val_loss: 3.3150 - val_accuracy: 0.3187 - val_precision: 0.3160 - val_recall: 0.3042\n",
      "Epoch 12/20\n",
      "1120/1120 - 294s - loss: 0.5714 - accuracy: 0.8205 - precision: 0.8423 - recall: 0.8009 - val_loss: 4.4883 - val_accuracy: 0.3229 - val_precision: 0.3241 - val_recall: 0.3167\n",
      "Epoch 13/20\n",
      "1120/1120 - 303s - loss: 0.5778 - accuracy: 0.8277 - precision: 0.8485 - recall: 0.8098 - val_loss: 3.9081 - val_accuracy: 0.3396 - val_precision: 0.3333 - val_recall: 0.3083\n",
      "Epoch 14/20\n",
      "1120/1120 - 310s - loss: 0.4842 - accuracy: 0.8625 - precision: 0.8801 - recall: 0.8518 - val_loss: 6.5874 - val_accuracy: 0.2500 - val_precision: 0.2435 - val_recall: 0.2354\n",
      "Epoch 15/20\n",
      "1120/1120 - 295s - loss: 0.4638 - accuracy: 0.8589 - precision: 0.8714 - recall: 0.8473 - val_loss: 4.4550 - val_accuracy: 0.3146 - val_precision: 0.3198 - val_recall: 0.3125\n",
      "Epoch 16/20\n",
      "1120/1120 - 294s - loss: 0.4311 - accuracy: 0.8920 - precision: 0.9030 - recall: 0.8732 - val_loss: 5.9968 - val_accuracy: 0.3063 - val_precision: 0.3053 - val_recall: 0.3021\n",
      "Epoch 17/20\n",
      "1120/1120 - 302s - loss: 0.4630 - accuracy: 0.8732 - precision: 0.8857 - recall: 0.8652 - val_loss: 4.2525 - val_accuracy: 0.3750 - val_precision: 0.3689 - val_recall: 0.3604\n",
      "Epoch 18/20\n",
      "1120/1120 - 304s - loss: 0.4141 - accuracy: 0.8893 - precision: 0.8971 - recall: 0.8795 - val_loss: 4.2151 - val_accuracy: 0.3542 - val_precision: 0.3594 - val_recall: 0.3542\n",
      "Epoch 19/20\n",
      "1120/1120 - 311s - loss: 0.6173 - accuracy: 0.8161 - precision: 0.8268 - recall: 0.7929 - val_loss: 2.3744 - val_accuracy: 0.4104 - val_precision: 0.4043 - val_recall: 0.3875\n",
      "Epoch 20/20\n",
      "1120/1120 - 294s - loss: 0.5277 - accuracy: 0.8429 - precision: 0.8582 - recall: 0.8268 - val_loss: 3.6302 - val_accuracy: 0.3375 - val_precision: 0.3312 - val_recall: 0.3208\n"
     ]
    },
    {
     "data": {
      "text/plain": [
       "<tensorflow.python.keras.callbacks.History at 0x1d8058464c0>"
      ]
     },
     "execution_count": 48,
     "metadata": {},
     "output_type": "execute_result"
    }
   ],
   "source": [
    "list_IDs = get_list_IDs(dir_lf_images)[:1600]\n",
    "\n",
    "print(\"Done loading lightfield paths.\")\n",
    "fraction = np.int(len(list_IDs)*0.7)\n",
    "list_IDs_train, list_IDs_test = list_IDs[:fraction], list_IDs[fraction:]\n",
    "\n",
    "generator_train = DataGenerator(list_IDs_train, batch_size=batch_size, train=False)\n",
    "generator_test = DataGenerator(list_IDs_test, batch_size=batch_size, train=False)\n",
    "model.trainable = True\n",
    "model.summary()\n",
    "\n",
    "model.fit(generator_train, epochs=20, max_queue_size=10, initial_epoch=iter00, verbose=2,\n",
    "          validation_data=generator_test)"
   ]
  },
  {
   "cell_type": "code",
   "execution_count": 50,
   "metadata": {},
   "outputs": [
    {
     "name": "stdout",
     "output_type": "stream",
     "text": [
      "Good: 0.551051051051051\n",
      "Scratch: 0.22447447447447447\n",
      "Dent: 0.22447447447447447\n",
      "Error: 0.0\n",
      "Done loading lightfield paths.\n",
      "Model: \"functional_1\"\n",
      "__________________________________________________________________________________________________\n",
      "Layer (type)                    Output Shape         Param #     Connected to                     \n",
      "==================================================================================================\n",
      "input_stack_vert (InputLayer)   [(None, 248, 248, 7) 0                                            \n",
      "__________________________________________________________________________________________________\n",
      "input_stack_hori (InputLayer)   [(None, 248, 248, 7) 0                                            \n",
      "__________________________________________________________________________________________________\n",
      "sequential (Sequential)         (None, 224, 224, 70) 626010      input_stack_vert[0][0]           \n",
      "__________________________________________________________________________________________________\n",
      "sequential_1 (Sequential)       (None, 224, 224, 70) 626010      input_stack_hori[0][0]           \n",
      "__________________________________________________________________________________________________\n",
      "tf_op_layer_concat (TensorFlowO [(None, 224, 224, 14 0           sequential[0][0]                 \n",
      "                                                                 sequential_1[0][0]               \n",
      "__________________________________________________________________________________________________\n",
      "efficientnet (EfficientNet)     (None, 3)            4092863     tf_op_layer_concat[0][0]         \n",
      "==================================================================================================\n",
      "Total params: 5,344,883\n",
      "Trainable params: 5,302,027\n",
      "Non-trainable params: 42,856\n",
      "__________________________________________________________________________________________________\n",
      "Epoch 1/20\n",
      "2797/2797 - 873s - loss: 1.0486 - accuracy: 0.5835 - precision: 0.6202 - recall: 0.4880 - val_loss: 1.6318 - val_accuracy: 0.3311 - val_precision: 0.3397 - val_recall: 0.2827\n",
      "Epoch 2/20\n",
      "2797/2797 - 739s - loss: 1.0346 - accuracy: 0.5828 - precision: 0.6187 - recall: 0.4723 - val_loss: 1.6521 - val_accuracy: 0.3044 - val_precision: 0.3074 - val_recall: 0.2344\n",
      "Epoch 3/20\n",
      "2797/2797 - 760s - loss: 1.0502 - accuracy: 0.5638 - precision: 0.6103 - recall: 0.4322 - val_loss: 2.4280 - val_accuracy: 0.2986 - val_precision: 0.3006 - val_recall: 0.2811\n",
      "Epoch 4/20\n",
      "2797/2797 - 767s - loss: 1.0448 - accuracy: 0.5585 - precision: 0.6150 - recall: 0.4465 - val_loss: 2.2496 - val_accuracy: 0.3236 - val_precision: 0.3208 - val_recall: 0.2986\n",
      "Epoch 5/20\n",
      "2797/2797 - 760s - loss: 1.0542 - accuracy: 0.5627 - precision: 0.6112 - recall: 0.4283 - val_loss: 1.2187 - val_accuracy: 0.4487 - val_precision: 0.4382 - val_recall: 0.2777\n",
      "Epoch 6/20\n",
      "2797/2797 - 732s - loss: 1.0368 - accuracy: 0.5638 - precision: 0.6198 - recall: 0.4355 - val_loss: 1.9589 - val_accuracy: 0.2936 - val_precision: 0.3027 - val_recall: 0.2552\n",
      "Epoch 7/20\n",
      "2797/2797 - 742s - loss: 1.0419 - accuracy: 0.5617 - precision: 0.6084 - recall: 0.4215 - val_loss: 1.3694 - val_accuracy: 0.2544 - val_precision: 0.2343 - val_recall: 0.0992\n",
      "Epoch 8/20\n",
      "2797/2797 - 749s - loss: 1.0263 - accuracy: 0.5695 - precision: 0.6224 - recall: 0.4355 - val_loss: 1.3649 - val_accuracy: 0.4187 - val_precision: 0.4275 - val_recall: 0.2902\n",
      "Epoch 9/20\n",
      "2797/2797 - 730s - loss: 1.0203 - accuracy: 0.5735 - precision: 0.6201 - recall: 0.4301 - val_loss: 1.3856 - val_accuracy: 0.3286 - val_precision: 0.3518 - val_recall: 0.1910\n",
      "Epoch 10/20\n",
      "2797/2797 - 729s - loss: 1.0017 - accuracy: 0.5867 - precision: 0.6402 - recall: 0.4644 - val_loss: 2.0631 - val_accuracy: 0.4012 - val_precision: 0.4247 - val_recall: 0.2986\n",
      "Epoch 11/20\n",
      "2797/2797 - 730s - loss: 1.0008 - accuracy: 0.5842 - precision: 0.6346 - recall: 0.4719 - val_loss: 2.0485 - val_accuracy: 0.3978 - val_precision: 0.4025 - val_recall: 0.2961\n",
      "Epoch 12/20\n",
      "2797/2797 - 747s - loss: 0.9855 - accuracy: 0.6028 - precision: 0.6476 - recall: 0.4784 - val_loss: 2.2324 - val_accuracy: 0.4178 - val_precision: 0.4423 - val_recall: 0.3453\n",
      "Epoch 13/20\n",
      "2797/2797 - 748s - loss: 0.9394 - accuracy: 0.6196 - precision: 0.6700 - recall: 0.5263 - val_loss: 1.5297 - val_accuracy: 0.3945 - val_precision: 0.4080 - val_recall: 0.2977\n",
      "Epoch 14/20\n",
      "2797/2797 - 747s - loss: 0.9299 - accuracy: 0.6214 - precision: 0.6838 - recall: 0.5241 - val_loss: 1.5633 - val_accuracy: 0.4320 - val_precision: 0.4365 - val_recall: 0.3153\n",
      "Epoch 15/20\n",
      "2797/2797 - 763s - loss: 0.9161 - accuracy: 0.6339 - precision: 0.6915 - recall: 0.5417 - val_loss: 1.8787 - val_accuracy: 0.3803 - val_precision: 0.3852 - val_recall: 0.3036\n",
      "Epoch 16/20\n",
      "2797/2797 - 758s - loss: 0.8774 - accuracy: 0.6511 - precision: 0.7086 - recall: 0.5695 - val_loss: 1.7605 - val_accuracy: 0.4087 - val_precision: 0.4337 - val_recall: 0.3411\n",
      "Epoch 17/20\n",
      "2797/2797 - 751s - loss: 0.8245 - accuracy: 0.6843 - precision: 0.7322 - recall: 0.6128 - val_loss: 1.6231 - val_accuracy: 0.3962 - val_precision: 0.4017 - val_recall: 0.3561\n",
      "Epoch 18/20\n",
      "2797/2797 - 728s - loss: 0.7654 - accuracy: 0.7040 - precision: 0.7550 - recall: 0.6400 - val_loss: 1.6668 - val_accuracy: 0.4128 - val_precision: 0.4218 - val_recall: 0.3620\n",
      "Epoch 19/20\n",
      "2797/2797 - 724s - loss: 0.7536 - accuracy: 0.7111 - precision: 0.7654 - recall: 0.6475 - val_loss: 2.3823 - val_accuracy: 0.3786 - val_precision: 0.3847 - val_recall: 0.3269\n",
      "Epoch 20/20\n",
      "2797/2797 - 723s - loss: 0.7154 - accuracy: 0.7243 - precision: 0.7740 - recall: 0.6696 - val_loss: 2.7010 - val_accuracy: 0.3269 - val_precision: 0.3235 - val_recall: 0.2836\n"
     ]
    },
    {
     "data": {
      "text/plain": [
       "<tensorflow.python.keras.callbacks.History at 0x1da2eb73ca0>"
      ]
     },
     "execution_count": 50,
     "metadata": {},
     "output_type": "execute_result"
    }
   ],
   "source": [
    "list_IDs = get_list_IDs(dir_lf_images)\n",
    "\n",
    "print(\"Done loading lightfield paths.\")\n",
    "fraction = np.int(len(list_IDs)*0.7)\n",
    "list_IDs_train, list_IDs_test = list_IDs[:fraction], list_IDs[fraction:]\n",
    "\n",
    "generator_train = DataGenerator(list_IDs_train, batch_size=batch_size, train=False)\n",
    "generator_test = DataGenerator(list_IDs_test, batch_size=batch_size, train=False)\n",
    "model.trainable = True\n",
    "model.summary()\n",
    "\n",
    "model.fit(generator_train, epochs=20, max_queue_size=10, initial_epoch=iter00, verbose=2,\n",
    "          validation_data=generator_test)"
   ]
  },
  {
   "cell_type": "code",
   "execution_count": 51,
   "metadata": {},
   "outputs": [
    {
     "name": "stdout",
     "output_type": "stream",
     "text": [
      "Good: 0.551051051051051\n",
      "Scratch: 0.22447447447447447\n",
      "Dent: 0.22447447447447447\n",
      "Error: 0.0\n",
      "Done loading lightfield paths.\n",
      "Model: \"functional_1\"\n",
      "__________________________________________________________________________________________________\n",
      "Layer (type)                    Output Shape         Param #     Connected to                     \n",
      "==================================================================================================\n",
      "input_stack_vert (InputLayer)   [(None, 248, 248, 7) 0                                            \n",
      "__________________________________________________________________________________________________\n",
      "input_stack_hori (InputLayer)   [(None, 248, 248, 7) 0                                            \n",
      "__________________________________________________________________________________________________\n",
      "sequential (Sequential)         (None, 224, 224, 70) 626010      input_stack_vert[0][0]           \n",
      "__________________________________________________________________________________________________\n",
      "sequential_1 (Sequential)       (None, 224, 224, 70) 626010      input_stack_hori[0][0]           \n",
      "__________________________________________________________________________________________________\n",
      "tf_op_layer_concat (TensorFlowO [(None, 224, 224, 14 0           sequential[0][0]                 \n",
      "                                                                 sequential_1[0][0]               \n",
      "__________________________________________________________________________________________________\n",
      "efficientnet (EfficientNet)     (None, 3)            4092863     tf_op_layer_concat[0][0]         \n",
      "==================================================================================================\n",
      "Total params: 5,344,883\n",
      "Trainable params: 5,302,027\n",
      "Non-trainable params: 42,856\n",
      "__________________________________________________________________________________________________\n",
      "Epoch 1/10\n",
      "2797/2797 - 718s - loss: 0.6553 - accuracy: 0.7572 - precision: 0.7885 - recall: 0.7183 - val_loss: 2.3661 - val_accuracy: 0.3645 - val_precision: 0.3636 - val_recall: 0.3278\n",
      "Epoch 2/10\n",
      "2797/2797 - 718s - loss: 0.6182 - accuracy: 0.7816 - precision: 0.8086 - recall: 0.7476 - val_loss: 2.4169 - val_accuracy: 0.3336 - val_precision: 0.3444 - val_recall: 0.3128\n",
      "Epoch 3/10\n",
      "2797/2797 - 714s - loss: 0.5812 - accuracy: 0.8016 - precision: 0.8231 - recall: 0.7755 - val_loss: 1.9541 - val_accuracy: 0.4170 - val_precision: 0.4185 - val_recall: 0.3770\n",
      "Epoch 4/10\n",
      "2797/2797 - 716s - loss: 0.6382 - accuracy: 0.7790 - precision: 0.8002 - recall: 0.7444 - val_loss: 2.0936 - val_accuracy: 0.3928 - val_precision: 0.4032 - val_recall: 0.3528\n",
      "Epoch 5/10\n",
      "2797/2797 - 718s - loss: 0.5745 - accuracy: 0.7969 - precision: 0.8222 - recall: 0.7705 - val_loss: 2.4265 - val_accuracy: 0.3812 - val_precision: 0.3836 - val_recall: 0.3628\n",
      "Epoch 6/10\n",
      "2797/2797 - 721s - loss: 0.5502 - accuracy: 0.8152 - precision: 0.8288 - recall: 0.7930 - val_loss: 3.1096 - val_accuracy: 0.3436 - val_precision: 0.3471 - val_recall: 0.3361\n",
      "Epoch 7/10\n",
      "2797/2797 - 723s - loss: 0.5419 - accuracy: 0.8191 - precision: 0.8390 - recall: 0.7991 - val_loss: 3.0746 - val_accuracy: 0.3478 - val_precision: 0.3498 - val_recall: 0.3244\n",
      "Epoch 8/10\n",
      "2797/2797 - 721s - loss: 0.5060 - accuracy: 0.8430 - precision: 0.8565 - recall: 0.8216 - val_loss: 2.4609 - val_accuracy: 0.3786 - val_precision: 0.3806 - val_recall: 0.3495\n",
      "Epoch 9/10\n",
      "2797/2797 - 722s - loss: 0.4400 - accuracy: 0.8595 - precision: 0.8722 - recall: 0.8491 - val_loss: 3.5063 - val_accuracy: 0.3461 - val_precision: 0.3458 - val_recall: 0.3311\n",
      "Epoch 10/10\n",
      "2797/2797 - 720s - loss: 0.4313 - accuracy: 0.8670 - precision: 0.8756 - recall: 0.8556 - val_loss: 2.6876 - val_accuracy: 0.4112 - val_precision: 0.4159 - val_recall: 0.3878\n"
     ]
    },
    {
     "data": {
      "text/plain": [
       "<tensorflow.python.keras.callbacks.History at 0x1da30571310>"
      ]
     },
     "execution_count": 51,
     "metadata": {},
     "output_type": "execute_result"
    }
   ],
   "source": [
    "list_IDs = get_list_IDs(dir_lf_images)\n",
    "\n",
    "print(\"Done loading lightfield paths.\")\n",
    "fraction = np.int(len(list_IDs)*0.7)\n",
    "list_IDs_train, list_IDs_test = list_IDs[:fraction], list_IDs[fraction:]\n",
    "\n",
    "generator_train = DataGenerator(list_IDs_train, batch_size=batch_size, train=False)\n",
    "generator_test = DataGenerator(list_IDs_test, batch_size=batch_size, train=False)\n",
    "model.trainable = True\n",
    "model.summary()\n",
    "\n",
    "model.fit(generator_train, epochs=10, max_queue_size=10, initial_epoch=iter00, verbose=2,\n",
    "          validation_data=generator_test)"
   ]
  },
  {
   "cell_type": "code",
   "execution_count": 52,
   "metadata": {},
   "outputs": [
    {
     "name": "stdout",
     "output_type": "stream",
     "text": [
      "Good: 0.551051051051051\n",
      "Scratch: 0.22447447447447447\n",
      "Dent: 0.22447447447447447\n",
      "Error: 0.0\n",
      "Done loading lightfield paths.\n",
      "3996\n"
     ]
    }
   ],
   "source": [
    "list_IDs = get_list_IDs(dir_lf_images)\n",
    "\n",
    "print(\"Done loading lightfield paths.\")\n",
    "fraction = np.int(len(list_IDs)*0.7)\n",
    "list_IDs_train, list_IDs_test = list_IDs[:fraction], list_IDs[fraction:]\n",
    "print(len(list_IDs))"
   ]
  },
  {
   "cell_type": "code",
   "execution_count": 53,
   "metadata": {},
   "outputs": [
    {
     "name": "stdout",
     "output_type": "stream",
     "text": [
      "Model: \"functional_1\"\n",
      "__________________________________________________________________________________________________\n",
      "Layer (type)                    Output Shape         Param #     Connected to                     \n",
      "==================================================================================================\n",
      "input_stack_vert (InputLayer)   [(None, 248, 248, 7) 0                                            \n",
      "__________________________________________________________________________________________________\n",
      "input_stack_hori (InputLayer)   [(None, 248, 248, 7) 0                                            \n",
      "__________________________________________________________________________________________________\n",
      "sequential (Sequential)         (None, 224, 224, 70) 626010      input_stack_vert[0][0]           \n",
      "__________________________________________________________________________________________________\n",
      "sequential_1 (Sequential)       (None, 224, 224, 70) 626010      input_stack_hori[0][0]           \n",
      "__________________________________________________________________________________________________\n",
      "tf_op_layer_concat (TensorFlowO [(None, 224, 224, 14 0           sequential[0][0]                 \n",
      "                                                                 sequential_1[0][0]               \n",
      "__________________________________________________________________________________________________\n",
      "efficientnet (EfficientNet)     (None, 3)            4092863     tf_op_layer_concat[0][0]         \n",
      "==================================================================================================\n",
      "Total params: 5,344,883\n",
      "Trainable params: 5,302,027\n",
      "Non-trainable params: 42,856\n",
      "__________________________________________________________________________________________________\n",
      "Epoch 1/20\n",
      "2797/2797 - 723s - loss: 1.1140 - accuracy: 0.5409 - precision: 0.5561 - recall: 0.4022 - val_loss: 2.1399 - val_accuracy: 0.3820 - val_precision: 0.3850 - val_recall: 0.3294\n",
      "Epoch 2/20\n",
      "2797/2797 - 736s - loss: 1.0869 - accuracy: 0.5474 - precision: 0.5581 - recall: 0.4244 - val_loss: 2.3707 - val_accuracy: 0.3086 - val_precision: 0.3202 - val_recall: 0.2636\n",
      "Epoch 3/20\n",
      "2797/2797 - 731s - loss: 1.0853 - accuracy: 0.5524 - precision: 0.5489 - recall: 0.4272 - val_loss: 1.9014 - val_accuracy: 0.4087 - val_precision: 0.4157 - val_recall: 0.2819\n",
      "Epoch 4/20\n",
      "2797/2797 - 730s - loss: 1.0784 - accuracy: 0.5506 - precision: 0.5534 - recall: 0.4555 - val_loss: 1.4984 - val_accuracy: 0.3044 - val_precision: 0.3000 - val_recall: 0.2427\n",
      "Epoch 5/20\n",
      "2797/2797 - 757s - loss: 1.0739 - accuracy: 0.5535 - precision: 0.5493 - recall: 0.4383 - val_loss: 1.8096 - val_accuracy: 0.3094 - val_precision: 0.3234 - val_recall: 0.2452\n",
      "Epoch 6/20\n",
      "2797/2797 - 784s - loss: 1.0650 - accuracy: 0.5535 - precision: 0.5588 - recall: 0.4469 - val_loss: 1.1463 - val_accuracy: 0.4362 - val_precision: 0.4554 - val_recall: 0.2852\n",
      "Epoch 7/20\n",
      "2797/2797 - 743s - loss: 1.0600 - accuracy: 0.5531 - precision: 0.5548 - recall: 0.4362 - val_loss: 1.6016 - val_accuracy: 0.3995 - val_precision: 0.5051 - val_recall: 0.2494\n",
      "Epoch 8/20\n",
      "2797/2797 - 746s - loss: 1.0584 - accuracy: 0.5538 - precision: 0.5515 - recall: 0.4655 - val_loss: 1.3588 - val_accuracy: 0.4304 - val_precision: 0.5224 - val_recall: 0.2727\n",
      "Epoch 9/20\n",
      "2797/2797 - 750s - loss: 1.0590 - accuracy: 0.5535 - precision: 0.5496 - recall: 0.4794 - val_loss: 1.5005 - val_accuracy: 0.3036 - val_precision: 0.2926 - val_recall: 0.2636\n",
      "Epoch 10/20\n",
      "2797/2797 - 746s - loss: 1.0550 - accuracy: 0.5535 - precision: 0.5532 - recall: 0.4855 - val_loss: 1.1641 - val_accuracy: 0.5446 - val_precision: 0.5041 - val_recall: 0.2569\n",
      "Epoch 11/20\n"
     ]
    },
    {
     "ename": "KeyboardInterrupt",
     "evalue": "",
     "output_type": "error",
     "traceback": [
      "\u001b[1;31m---------------------------------------------------------------------------\u001b[0m",
      "\u001b[1;31mKeyboardInterrupt\u001b[0m                         Traceback (most recent call last)",
      "\u001b[1;32m<ipython-input-53-52a29606f859>\u001b[0m in \u001b[0;36m<module>\u001b[1;34m\u001b[0m\n\u001b[0;32m      4\u001b[0m \u001b[0mmodel\u001b[0m\u001b[1;33m.\u001b[0m\u001b[0msummary\u001b[0m\u001b[1;33m(\u001b[0m\u001b[1;33m)\u001b[0m\u001b[1;33m\u001b[0m\u001b[1;33m\u001b[0m\u001b[0m\n\u001b[0;32m      5\u001b[0m \u001b[1;33m\u001b[0m\u001b[0m\n\u001b[1;32m----> 6\u001b[1;33m model.fit(generator_train, epochs=20, max_queue_size=10, initial_epoch=iter00, verbose=2,\n\u001b[0m\u001b[0;32m      7\u001b[0m           validation_data=generator_test)\n",
      "\u001b[1;32m~\\AppData\\Roaming\\Python\\Python38\\site-packages\\tensorflow\\python\\keras\\engine\\training.py\u001b[0m in \u001b[0;36m_method_wrapper\u001b[1;34m(self, *args, **kwargs)\u001b[0m\n\u001b[0;32m    106\u001b[0m   \u001b[1;32mdef\u001b[0m \u001b[0m_method_wrapper\u001b[0m\u001b[1;33m(\u001b[0m\u001b[0mself\u001b[0m\u001b[1;33m,\u001b[0m \u001b[1;33m*\u001b[0m\u001b[0margs\u001b[0m\u001b[1;33m,\u001b[0m \u001b[1;33m**\u001b[0m\u001b[0mkwargs\u001b[0m\u001b[1;33m)\u001b[0m\u001b[1;33m:\u001b[0m\u001b[1;33m\u001b[0m\u001b[1;33m\u001b[0m\u001b[0m\n\u001b[0;32m    107\u001b[0m     \u001b[1;32mif\u001b[0m \u001b[1;32mnot\u001b[0m \u001b[0mself\u001b[0m\u001b[1;33m.\u001b[0m\u001b[0m_in_multi_worker_mode\u001b[0m\u001b[1;33m(\u001b[0m\u001b[1;33m)\u001b[0m\u001b[1;33m:\u001b[0m  \u001b[1;31m# pylint: disable=protected-access\u001b[0m\u001b[1;33m\u001b[0m\u001b[1;33m\u001b[0m\u001b[0m\n\u001b[1;32m--> 108\u001b[1;33m       \u001b[1;32mreturn\u001b[0m \u001b[0mmethod\u001b[0m\u001b[1;33m(\u001b[0m\u001b[0mself\u001b[0m\u001b[1;33m,\u001b[0m \u001b[1;33m*\u001b[0m\u001b[0margs\u001b[0m\u001b[1;33m,\u001b[0m \u001b[1;33m**\u001b[0m\u001b[0mkwargs\u001b[0m\u001b[1;33m)\u001b[0m\u001b[1;33m\u001b[0m\u001b[1;33m\u001b[0m\u001b[0m\n\u001b[0m\u001b[0;32m    109\u001b[0m \u001b[1;33m\u001b[0m\u001b[0m\n\u001b[0;32m    110\u001b[0m     \u001b[1;31m# Running inside `run_distribute_coordinator` already.\u001b[0m\u001b[1;33m\u001b[0m\u001b[1;33m\u001b[0m\u001b[1;33m\u001b[0m\u001b[0m\n",
      "\u001b[1;32m~\\AppData\\Roaming\\Python\\Python38\\site-packages\\tensorflow\\python\\keras\\engine\\training.py\u001b[0m in \u001b[0;36mfit\u001b[1;34m(self, x, y, batch_size, epochs, verbose, callbacks, validation_split, validation_data, shuffle, class_weight, sample_weight, initial_epoch, steps_per_epoch, validation_steps, validation_batch_size, validation_freq, max_queue_size, workers, use_multiprocessing)\u001b[0m\n\u001b[0;32m   1096\u001b[0m                 batch_size=batch_size):\n\u001b[0;32m   1097\u001b[0m               \u001b[0mcallbacks\u001b[0m\u001b[1;33m.\u001b[0m\u001b[0mon_train_batch_begin\u001b[0m\u001b[1;33m(\u001b[0m\u001b[0mstep\u001b[0m\u001b[1;33m)\u001b[0m\u001b[1;33m\u001b[0m\u001b[1;33m\u001b[0m\u001b[0m\n\u001b[1;32m-> 1098\u001b[1;33m               \u001b[0mtmp_logs\u001b[0m \u001b[1;33m=\u001b[0m \u001b[0mtrain_function\u001b[0m\u001b[1;33m(\u001b[0m\u001b[0miterator\u001b[0m\u001b[1;33m)\u001b[0m\u001b[1;33m\u001b[0m\u001b[1;33m\u001b[0m\u001b[0m\n\u001b[0m\u001b[0;32m   1099\u001b[0m               \u001b[1;32mif\u001b[0m \u001b[0mdata_handler\u001b[0m\u001b[1;33m.\u001b[0m\u001b[0mshould_sync\u001b[0m\u001b[1;33m:\u001b[0m\u001b[1;33m\u001b[0m\u001b[1;33m\u001b[0m\u001b[0m\n\u001b[0;32m   1100\u001b[0m                 \u001b[0mcontext\u001b[0m\u001b[1;33m.\u001b[0m\u001b[0masync_wait\u001b[0m\u001b[1;33m(\u001b[0m\u001b[1;33m)\u001b[0m\u001b[1;33m\u001b[0m\u001b[1;33m\u001b[0m\u001b[0m\n",
      "\u001b[1;32m~\\AppData\\Roaming\\Python\\Python38\\site-packages\\tensorflow\\python\\eager\\def_function.py\u001b[0m in \u001b[0;36m__call__\u001b[1;34m(self, *args, **kwds)\u001b[0m\n\u001b[0;32m    778\u001b[0m       \u001b[1;32melse\u001b[0m\u001b[1;33m:\u001b[0m\u001b[1;33m\u001b[0m\u001b[1;33m\u001b[0m\u001b[0m\n\u001b[0;32m    779\u001b[0m         \u001b[0mcompiler\u001b[0m \u001b[1;33m=\u001b[0m \u001b[1;34m\"nonXla\"\u001b[0m\u001b[1;33m\u001b[0m\u001b[1;33m\u001b[0m\u001b[0m\n\u001b[1;32m--> 780\u001b[1;33m         \u001b[0mresult\u001b[0m \u001b[1;33m=\u001b[0m \u001b[0mself\u001b[0m\u001b[1;33m.\u001b[0m\u001b[0m_call\u001b[0m\u001b[1;33m(\u001b[0m\u001b[1;33m*\u001b[0m\u001b[0margs\u001b[0m\u001b[1;33m,\u001b[0m \u001b[1;33m**\u001b[0m\u001b[0mkwds\u001b[0m\u001b[1;33m)\u001b[0m\u001b[1;33m\u001b[0m\u001b[1;33m\u001b[0m\u001b[0m\n\u001b[0m\u001b[0;32m    781\u001b[0m \u001b[1;33m\u001b[0m\u001b[0m\n\u001b[0;32m    782\u001b[0m       \u001b[0mnew_tracing_count\u001b[0m \u001b[1;33m=\u001b[0m \u001b[0mself\u001b[0m\u001b[1;33m.\u001b[0m\u001b[0m_get_tracing_count\u001b[0m\u001b[1;33m(\u001b[0m\u001b[1;33m)\u001b[0m\u001b[1;33m\u001b[0m\u001b[1;33m\u001b[0m\u001b[0m\n",
      "\u001b[1;32m~\\AppData\\Roaming\\Python\\Python38\\site-packages\\tensorflow\\python\\eager\\def_function.py\u001b[0m in \u001b[0;36m_call\u001b[1;34m(self, *args, **kwds)\u001b[0m\n\u001b[0;32m    805\u001b[0m       \u001b[1;31m# In this case we have created variables on the first call, so we run the\u001b[0m\u001b[1;33m\u001b[0m\u001b[1;33m\u001b[0m\u001b[1;33m\u001b[0m\u001b[0m\n\u001b[0;32m    806\u001b[0m       \u001b[1;31m# defunned version which is guaranteed to never create variables.\u001b[0m\u001b[1;33m\u001b[0m\u001b[1;33m\u001b[0m\u001b[1;33m\u001b[0m\u001b[0m\n\u001b[1;32m--> 807\u001b[1;33m       \u001b[1;32mreturn\u001b[0m \u001b[0mself\u001b[0m\u001b[1;33m.\u001b[0m\u001b[0m_stateless_fn\u001b[0m\u001b[1;33m(\u001b[0m\u001b[1;33m*\u001b[0m\u001b[0margs\u001b[0m\u001b[1;33m,\u001b[0m \u001b[1;33m**\u001b[0m\u001b[0mkwds\u001b[0m\u001b[1;33m)\u001b[0m  \u001b[1;31m# pylint: disable=not-callable\u001b[0m\u001b[1;33m\u001b[0m\u001b[1;33m\u001b[0m\u001b[0m\n\u001b[0m\u001b[0;32m    808\u001b[0m     \u001b[1;32melif\u001b[0m \u001b[0mself\u001b[0m\u001b[1;33m.\u001b[0m\u001b[0m_stateful_fn\u001b[0m \u001b[1;32mis\u001b[0m \u001b[1;32mnot\u001b[0m \u001b[1;32mNone\u001b[0m\u001b[1;33m:\u001b[0m\u001b[1;33m\u001b[0m\u001b[1;33m\u001b[0m\u001b[0m\n\u001b[0;32m    809\u001b[0m       \u001b[1;31m# Release the lock early so that multiple threads can perform the call\u001b[0m\u001b[1;33m\u001b[0m\u001b[1;33m\u001b[0m\u001b[1;33m\u001b[0m\u001b[0m\n",
      "\u001b[1;32m~\\AppData\\Roaming\\Python\\Python38\\site-packages\\tensorflow\\python\\eager\\function.py\u001b[0m in \u001b[0;36m__call__\u001b[1;34m(self, *args, **kwargs)\u001b[0m\n\u001b[0;32m   2827\u001b[0m     \u001b[1;32mwith\u001b[0m \u001b[0mself\u001b[0m\u001b[1;33m.\u001b[0m\u001b[0m_lock\u001b[0m\u001b[1;33m:\u001b[0m\u001b[1;33m\u001b[0m\u001b[1;33m\u001b[0m\u001b[0m\n\u001b[0;32m   2828\u001b[0m       \u001b[0mgraph_function\u001b[0m\u001b[1;33m,\u001b[0m \u001b[0margs\u001b[0m\u001b[1;33m,\u001b[0m \u001b[0mkwargs\u001b[0m \u001b[1;33m=\u001b[0m \u001b[0mself\u001b[0m\u001b[1;33m.\u001b[0m\u001b[0m_maybe_define_function\u001b[0m\u001b[1;33m(\u001b[0m\u001b[0margs\u001b[0m\u001b[1;33m,\u001b[0m \u001b[0mkwargs\u001b[0m\u001b[1;33m)\u001b[0m\u001b[1;33m\u001b[0m\u001b[1;33m\u001b[0m\u001b[0m\n\u001b[1;32m-> 2829\u001b[1;33m     \u001b[1;32mreturn\u001b[0m \u001b[0mgraph_function\u001b[0m\u001b[1;33m.\u001b[0m\u001b[0m_filtered_call\u001b[0m\u001b[1;33m(\u001b[0m\u001b[0margs\u001b[0m\u001b[1;33m,\u001b[0m \u001b[0mkwargs\u001b[0m\u001b[1;33m)\u001b[0m  \u001b[1;31m# pylint: disable=protected-access\u001b[0m\u001b[1;33m\u001b[0m\u001b[1;33m\u001b[0m\u001b[0m\n\u001b[0m\u001b[0;32m   2830\u001b[0m \u001b[1;33m\u001b[0m\u001b[0m\n\u001b[0;32m   2831\u001b[0m   \u001b[1;33m@\u001b[0m\u001b[0mproperty\u001b[0m\u001b[1;33m\u001b[0m\u001b[1;33m\u001b[0m\u001b[0m\n",
      "\u001b[1;32m~\\AppData\\Roaming\\Python\\Python38\\site-packages\\tensorflow\\python\\eager\\function.py\u001b[0m in \u001b[0;36m_filtered_call\u001b[1;34m(self, args, kwargs, cancellation_manager)\u001b[0m\n\u001b[0;32m   1841\u001b[0m       \u001b[0;31m`\u001b[0m\u001b[0margs\u001b[0m\u001b[0;31m`\u001b[0m \u001b[1;32mand\u001b[0m\u001b[0;31m \u001b[0m\u001b[0;31m`\u001b[0m\u001b[0mkwargs\u001b[0m\u001b[0;31m`\u001b[0m\u001b[1;33m.\u001b[0m\u001b[1;33m\u001b[0m\u001b[1;33m\u001b[0m\u001b[0m\n\u001b[0;32m   1842\u001b[0m     \"\"\"\n\u001b[1;32m-> 1843\u001b[1;33m     return self._call_flat(\n\u001b[0m\u001b[0;32m   1844\u001b[0m         [t for t in nest.flatten((args, kwargs), expand_composites=True)\n\u001b[0;32m   1845\u001b[0m          if isinstance(t, (ops.Tensor,\n",
      "\u001b[1;32m~\\AppData\\Roaming\\Python\\Python38\\site-packages\\tensorflow\\python\\eager\\function.py\u001b[0m in \u001b[0;36m_call_flat\u001b[1;34m(self, args, captured_inputs, cancellation_manager)\u001b[0m\n\u001b[0;32m   1921\u001b[0m         and executing_eagerly):\n\u001b[0;32m   1922\u001b[0m       \u001b[1;31m# No tape is watching; skip to running the function.\u001b[0m\u001b[1;33m\u001b[0m\u001b[1;33m\u001b[0m\u001b[1;33m\u001b[0m\u001b[0m\n\u001b[1;32m-> 1923\u001b[1;33m       return self._build_call_outputs(self._inference_function.call(\n\u001b[0m\u001b[0;32m   1924\u001b[0m           ctx, args, cancellation_manager=cancellation_manager))\n\u001b[0;32m   1925\u001b[0m     forward_backward = self._select_forward_and_backward_functions(\n",
      "\u001b[1;32m~\\AppData\\Roaming\\Python\\Python38\\site-packages\\tensorflow\\python\\eager\\function.py\u001b[0m in \u001b[0;36mcall\u001b[1;34m(self, ctx, args, cancellation_manager)\u001b[0m\n\u001b[0;32m    543\u001b[0m       \u001b[1;32mwith\u001b[0m \u001b[0m_InterpolateFunctionError\u001b[0m\u001b[1;33m(\u001b[0m\u001b[0mself\u001b[0m\u001b[1;33m)\u001b[0m\u001b[1;33m:\u001b[0m\u001b[1;33m\u001b[0m\u001b[1;33m\u001b[0m\u001b[0m\n\u001b[0;32m    544\u001b[0m         \u001b[1;32mif\u001b[0m \u001b[0mcancellation_manager\u001b[0m \u001b[1;32mis\u001b[0m \u001b[1;32mNone\u001b[0m\u001b[1;33m:\u001b[0m\u001b[1;33m\u001b[0m\u001b[1;33m\u001b[0m\u001b[0m\n\u001b[1;32m--> 545\u001b[1;33m           outputs = execute.execute(\n\u001b[0m\u001b[0;32m    546\u001b[0m               \u001b[0mstr\u001b[0m\u001b[1;33m(\u001b[0m\u001b[0mself\u001b[0m\u001b[1;33m.\u001b[0m\u001b[0msignature\u001b[0m\u001b[1;33m.\u001b[0m\u001b[0mname\u001b[0m\u001b[1;33m)\u001b[0m\u001b[1;33m,\u001b[0m\u001b[1;33m\u001b[0m\u001b[1;33m\u001b[0m\u001b[0m\n\u001b[0;32m    547\u001b[0m               \u001b[0mnum_outputs\u001b[0m\u001b[1;33m=\u001b[0m\u001b[0mself\u001b[0m\u001b[1;33m.\u001b[0m\u001b[0m_num_outputs\u001b[0m\u001b[1;33m,\u001b[0m\u001b[1;33m\u001b[0m\u001b[1;33m\u001b[0m\u001b[0m\n",
      "\u001b[1;32m~\\AppData\\Roaming\\Python\\Python38\\site-packages\\tensorflow\\python\\eager\\execute.py\u001b[0m in \u001b[0;36mquick_execute\u001b[1;34m(op_name, num_outputs, inputs, attrs, ctx, name)\u001b[0m\n\u001b[0;32m     57\u001b[0m   \u001b[1;32mtry\u001b[0m\u001b[1;33m:\u001b[0m\u001b[1;33m\u001b[0m\u001b[1;33m\u001b[0m\u001b[0m\n\u001b[0;32m     58\u001b[0m     \u001b[0mctx\u001b[0m\u001b[1;33m.\u001b[0m\u001b[0mensure_initialized\u001b[0m\u001b[1;33m(\u001b[0m\u001b[1;33m)\u001b[0m\u001b[1;33m\u001b[0m\u001b[1;33m\u001b[0m\u001b[0m\n\u001b[1;32m---> 59\u001b[1;33m     tensors = pywrap_tfe.TFE_Py_Execute(ctx._handle, device_name, op_name,\n\u001b[0m\u001b[0;32m     60\u001b[0m                                         inputs, attrs, num_outputs)\n\u001b[0;32m     61\u001b[0m   \u001b[1;32mexcept\u001b[0m \u001b[0mcore\u001b[0m\u001b[1;33m.\u001b[0m\u001b[0m_NotOkStatusException\u001b[0m \u001b[1;32mas\u001b[0m \u001b[0me\u001b[0m\u001b[1;33m:\u001b[0m\u001b[1;33m\u001b[0m\u001b[1;33m\u001b[0m\u001b[0m\n",
      "\u001b[1;31mKeyboardInterrupt\u001b[0m: "
     ]
    }
   ],
   "source": [
    "\n",
    "generator_train = DataGenerator(list_IDs_train, batch_size=batch_size, train=True)\n",
    "generator_test = DataGenerator(list_IDs_test, batch_size=batch_size, train=False)\n",
    "model.trainable = True\n",
    "model.summary()\n",
    "\n",
    "model.fit(generator_train, epochs=20, max_queue_size=10, initial_epoch=iter00, verbose=2,\n",
    "          validation_data=generator_test)"
   ]
  },
  {
   "cell_type": "code",
   "execution_count": null,
   "metadata": {},
   "outputs": [],
   "source": []
  },
  {
   "cell_type": "code",
   "execution_count": null,
   "metadata": {},
   "outputs": [],
   "source": []
  },
  {
   "cell_type": "code",
   "execution_count": null,
   "metadata": {},
   "outputs": [],
   "source": []
  },
  {
   "cell_type": "code",
   "execution_count": 15,
   "metadata": {},
   "outputs": [
    {
     "data": {
      "image/png": "[encoded data removed]",
      "text/plain": [
       "<Figure size 720x216 with 3 Axes>"
      ]
     },
     "metadata": {
      "needs_background": "light"
     },
     "output_type": "display_data"
    }
   ],
   "source": [
    "from scipy import ndimage, misc\n",
    "import numpy as np\n",
    "import matplotlib.pyplot as plt\n",
    "fig = plt.figure(figsize=(10, 3))\n",
    "ax1, ax2, ax3 = fig.subplots(1, 3)\n",
    "img = misc.ascent()[138:-138, 138:-138]\n",
    "img = np.roll(img, 10, axis=(0,1))\n",
    "img_45 = ndimage.rotate(img, 10, reshape=False, mode='wrap')\n",
    "full_img_45 = ndimage.rotate(img, 45, reshape=True)\n",
    "ax1.imshow(img, cmap='gray')\n",
    "ax1.set_axis_off()\n",
    "ax2.imshow(img_45, cmap='gray')\n",
    "ax2.set_axis_off()\n",
    "ax3.imshow(full_img_45, cmap='gray')\n",
    "ax3.set_axis_off()\n",
    "fig.set_tight_layout(True)\n",
    "plt.show()"
   ]
  },
  {
   "cell_type": "code",
   "execution_count": 8,
   "metadata": {},
   "outputs": [
    {
     "data": {
      "text/plain": [
       "(236, 236)"
      ]
     },
     "execution_count": 8,
     "metadata": {},
     "output_type": "execute_result"
    }
   ],
   "source": [
    "img.shape"
   ]
  },
  {
   "cell_type": "code",
   "execution_count": null,
   "metadata": {},
   "outputs": [],
   "source": []
  }
 ],
 "metadata": {
  "kernelspec": {
   "display_name": "Python 3",
   "language": "python",
   "name": "python3"
  },
  "language_info": {
   "codemirror_mode": {
    "name": "ipython",
    "version": 3
   },
   "file_extension": ".py",
   "mimetype": "text/x-python",
   "name": "python",
   "nbconvert_exporter": "python",
   "pygments_lexer": "ipython3",
   "version": "3.8.5"
  }
 },
 "nbformat": 4,
 "nbformat_minor": 4
}
