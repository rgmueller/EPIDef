{
 "cells": [
  {
   "cell_type": "code",
   "execution_count": 18,
   "metadata": {},
   "outputs": [
    {
     "name": "stdout",
     "output_type": "stream",
     "text": [
      "Model: \"functional_17\"\n",
      "__________________________________________________________________________________________________\n",
      "Layer (type)                    Output Shape         Param #     Connected to                     \n",
      "==================================================================================================\n",
      "input_stack_vert (InputLayer)   [(None, 236, 236, 7) 0                                            \n",
      "__________________________________________________________________________________________________\n",
      "input_stack_hori (InputLayer)   [(None, 236, 236, 7) 0                                            \n",
      "__________________________________________________________________________________________________\n",
      "sequential_16 (Sequential)      (None, 224, 224, 70) 226170      input_stack_vert[0][0]           \n",
      "__________________________________________________________________________________________________\n",
      "sequential_17 (Sequential)      (None, 224, 224, 70) 226170      input_stack_hori[0][0]           \n",
      "__________________________________________________________________________________________________\n",
      "tf_op_layer_concat_8 (TensorFlo [(None, 224, 224, 14 0           sequential_16[0][0]              \n",
      "                                                                 sequential_17[0][0]              \n",
      "__________________________________________________________________________________________________\n",
      "efficientnet (EfficientNet)     (None, 3)            4092863     tf_op_layer_concat_8[0][0]       \n",
      "==================================================================================================\n",
      "Total params: 4,545,203\n",
      "Trainable params: 4,502,347\n",
      "Non-trainable params: 42,856\n",
      "__________________________________________________________________________________________________\n",
      "(300, 236, 236, 7)\n"
     ]
    }
   ],
   "source": [
    "import os\n",
    "import datetime\n",
    "import numpy as np\n",
    "\n",
    "import tensorflow.keras as keras\n",
    "import tensorflow as tf\n",
    "\n",
    "\n",
    "from tensorflow.keras import Model, Sequential\n",
    "from tensorflow.keras.layers import Conv2D\n",
    "from tensorflow.keras.layers import BatchNormalization, Input\n",
    "from tensorflow.keras.backend import concatenate\n",
    "import tensorflow as tf\n",
    "from official.vision.image_classification.efficientnet import efficientnet_model\n",
    "\n",
    "\n",
    "def layer1_multistream(res_x, res_y, num_cams, filter_num):\n",
    "    \"\"\"\n",
    "    Multi-stream layer: Conv - ReLU - Conv - ReLU - BN\n",
    "\n",
    "    :param res_x:\n",
    "    :param res_y:\n",
    "    :param num_cams:\n",
    "    :param filter_num:\n",
    "    :return:\n",
    "    \"\"\"\n",
    "    if not hasattr(layer1_multistream, \"instance\"):\n",
    "        layer1_multistream.instance = 0\n",
    "    j = layer1_multistream.instance\n",
    "    seq = Sequential()\n",
    "    seq.add(Conv2D(filter_num, (3, 3), input_shape=(res_x, res_y, num_cams),\n",
    "                   padding='valid', name=f'S1_C10_{j}', activation='relu'))\n",
    "    seq.add(Conv2D(filter_num, (3, 3), input_shape=(res_x-2, res_y-2, 70),\n",
    "                   padding='valid', name=f'S1_C20_{j}', activation='relu'))\n",
    "    # In original activation comes after BN, but other way round may be better:\n",
    "    # https://blog.paperspace.com/busting-the-myths-about-batch-normalization/\n",
    "    seq.add(BatchNormalization(axis=-1, name=f'S1_BN0_{j}'))\n",
    "\n",
    "    seq.add(Conv2D(filter_num, (3, 3), input_shape=(res_x-4, res_y-4, 70),\n",
    "                   padding='valid', name=f'S1_C11_{j}', activation='relu'))\n",
    "    seq.add(Conv2D(filter_num, (3, 3), input_shape=(res_x-6, res_y-6, 70),\n",
    "                   padding='valid', name=f'S1_C21_{j}', activation='relu'))\n",
    "    seq.add(BatchNormalization(axis=-1, name=f'S1_BN1_{j}'))\n",
    "\n",
    "    seq.add(Conv2D(filter_num, (3, 3), input_shape=(res_x-8, res_y-8, 70),\n",
    "                   padding='valid', name=f'S1_C12_{j}', activation='relu'))\n",
    "    seq.add(Conv2D(filter_num, (3, 3), input_shape=(res_x-10, res_y-10, 70),\n",
    "                   padding='valid', name=f'S1_C22_{j}', activation='relu'))\n",
    "    seq.add(BatchNormalization(axis=-1, name=f'S1_BN2_{j}'))\n",
    "    layer1_multistream.instance += 1\n",
    "    return seq\n",
    "\n",
    "\n",
    "def efficientnet():\n",
    "    \"\"\"\n",
    "    Merged layer: Conv - ReLU - Conv - ReLU - BN\n",
    "\n",
    "    :return: seq:\n",
    "    \"\"\"\n",
    "    seq = efficientnet_model.EfficientNet(overrides={'num_classes': 3, 'input_channels': 140,\n",
    "                                                     'rescale_input': False})\n",
    "    return seq\n",
    "\n",
    "\n",
    "def define_epidef(sz_input1, sz_input2, view_n, filter_num):\n",
    "    \"\"\"\n",
    "    Compiles the full network.\n",
    "\n",
    "    :param sz_input1: resX\n",
    "    :param sz_input2: resY\n",
    "    :param view_n: num_cams\n",
    "    :param filter_num: number of channels in multistream layers\n",
    "    :return:\n",
    "    \"\"\"\n",
    "    # 2-Input: Conv - ReLU - Conv - ReLU - BN\n",
    "    input_stack_vert = Input(shape=(sz_input1, sz_input2, view_n), name='input_stack_vert')\n",
    "    input_stack_hori = Input(shape=(sz_input1, sz_input2, view_n), name='input_stack_hori')\n",
    "\n",
    "    # 2-Stream layer: Conv - ReLU - Conv - ReLU - BN\n",
    "    mid_vert = layer1_multistream(sz_input1, sz_input2, view_n, filter_num)(input_stack_vert)\n",
    "    mid_hori = layer1_multistream(sz_input1, sz_input2, view_n, filter_num)(input_stack_hori)\n",
    "\n",
    "    # Merge layers\n",
    "    mid_merged = concatenate([mid_vert, mid_hori])\n",
    "\n",
    "    mid_merged_ = efficientnet()\n",
    "\n",
    "    output = mid_merged_(mid_merged)\n",
    "    model_512 = Model(inputs=[input_stack_vert, input_stack_hori], outputs=[output])\n",
    "    metrics = ['accuracy',\n",
    "               tf.keras.metrics.Precision(name='precision'),\n",
    "               tf.keras.metrics.Recall(name='recall')]\n",
    "    model_512.compile(loss='categorical_crossentropy', optimizer='adam', metrics=metrics)\n",
    "    model_512.summary()\n",
    "    return model_512\n",
    "\n",
    "model_filter_number = 70\n",
    "model_learning_rate = 1e-5\n",
    "batch_size = 1\n",
    "input_res = 236\n",
    "\n",
    "\n",
    "model = define_epidef(236, 236, 7, filter_num=70)\n",
    "\n",
    "trainv = np.concatenate([np.zeros((100,236,236,7))+np.random.random((100,236,236,7))*0.2,\n",
    "                         np.ones((100,236,236,7))+np.random.random((100,236,236,7))*0.2, np.ones((100,236,236,7))+1+np.random.random((100,236,236,7))*0.2], axis=0).astype('float32')\n",
    "print(trainv.shape)\n",
    "label_train = np.array(100*[0] + 100*[1] + 100*[2])\n",
    "label_train_cat = keras.utils.to_categorical(label_train, num_classes=3)\n",
    "trainh = np.concatenate([np.zeros((100,236,236,7))+np.random.random((100,236,236,7))*0.2,\n",
    "                         np.ones((100,236,236,7))+np.random.random((100,236,236,7))*0.2, np.ones((100,236,236,7))+1+np.random.random((100,236,236,7))*0.2], axis=0).astype('float32')\n",
    "\n",
    "testv = np.concatenate([np.zeros((20,236,236,7))+np.random.random((20,236,236,7))*0.2,\n",
    "                        np.ones((20,236,236,7))+np.random.random((20,236,236,7))*0.2, np.ones((20,236,236,7))+1+np.random.random((20,236,236,7))*0.2], axis=0).astype('float32')\n",
    "label_test = np.array(20*[0] + 20*[1] + 20*[2])\n",
    "label_test_cat = keras.utils.to_categorical(label_test, num_classes=3)\n",
    "testh = np.concatenate([np.zeros((20,236,236,7))+np.random.random((20,236,236,7))*0.2,\n",
    "                        np.ones((20,236,236,7))+np.random.random((20,236,236,7))*0.2, np.ones((20,236,236,7))+1+np.random.random((20,236,236,7))*0.2], axis=0).astype('float32')"
   ]
  },
  {
   "cell_type": "code",
   "execution_count": 20,
   "metadata": {},
   "outputs": [
    {
     "name": "stdout",
     "output_type": "stream",
     "text": [
      "Epoch 1/10\n",
      "WARNING:tensorflow:Gradients do not exist for variables ['S1_C10_0/kernel:0', 'S1_C10_0/bias:0', 'S1_C20_0/kernel:0', 'S1_C20_0/bias:0', 'S1_BN0_0/gamma:0', 'S1_BN0_0/beta:0', 'S1_C11_0/kernel:0', 'S1_C11_0/bias:0', 'S1_C21_0/kernel:0', 'S1_C21_0/bias:0', 'S1_BN1_0/gamma:0', 'S1_BN1_0/beta:0', 'S1_C12_0/kernel:0', 'S1_C12_0/bias:0', 'S1_C22_0/kernel:0', 'S1_C22_0/bias:0', 'S1_BN2_0/gamma:0', 'S1_BN2_0/beta:0', 'S1_C10_1/kernel:0', 'S1_C10_1/bias:0', 'S1_C20_1/kernel:0', 'S1_C20_1/bias:0', 'S1_BN0_1/gamma:0', 'S1_BN0_1/beta:0', 'S1_C11_1/kernel:0', 'S1_C11_1/bias:0', 'S1_C21_1/kernel:0', 'S1_C21_1/bias:0', 'S1_BN1_1/gamma:0', 'S1_BN1_1/beta:0', 'S1_C12_1/kernel:0', 'S1_C12_1/bias:0', 'S1_C22_1/kernel:0', 'S1_C22_1/bias:0', 'S1_BN2_1/gamma:0', 'S1_BN2_1/beta:0', 'stem_bn/gamma:0', 'stem_bn/beta:0', 'stack_0/block_0/depthwise_conv2d/depthwise_kernel:0', 'stack_0/block_0/depthwise_bn/gamma:0', 'stack_0/block_0/depthwise_bn/beta:0', 'stack_0/block_0/project_bn/gamma:0', 'stack_0/block_0/project_bn/beta:0', 'stack_1/block_0/expand_bn/gamma:0', 'stack_1/block_0/expand_bn/beta:0', 'stack_1/block_0/depthwise_conv2d/depthwise_kernel:0', 'stack_1/block_0/depthwise_bn/gamma:0', 'stack_1/block_0/depthwise_bn/beta:0', 'stack_1/block_0/project_bn/gamma:0', 'stack_1/block_0/project_bn/beta:0', 'stack_1/block_1/expand_bn/gamma:0', 'stack_1/block_1/expand_bn/beta:0', 'stack_1/block_1/depthwise_conv2d/depthwise_kernel:0', 'stack_1/block_1/depthwise_bn/gamma:0', 'stack_1/block_1/depthwise_bn/beta:0', 'stack_1/block_1/project_bn/gamma:0', 'stack_1/block_1/project_bn/beta:0', 'stack_2/block_0/expand_bn/gamma:0', 'stack_2/block_0/expand_bn/beta:0', 'stack_2/block_0/depthwise_conv2d/depthwise_kernel:0', 'stack_2/block_0/depthwise_bn/gamma:0', 'stack_2/block_0/depthwise_bn/beta:0', 'stack_2/block_0/project_bn/gamma:0', 'stack_2/block_0/project_bn/beta:0', 'stack_2/block_1/expand_bn/gamma:0', 'stack_2/block_1/expand_bn/beta:0', 'stack_2/block_1/depthwise_conv2d/depthwise_kernel:0', 'stack_2/block_1/depthwise_bn/gamma:0', 'stack_2/block_1/depthwise_bn/beta:0', 'stack_2/block_1/project_bn/gamma:0', 'stack_2/block_1/project_bn/beta:0', 'stack_3/block_0/expand_bn/gamma:0', 'stack_3/block_0/expand_bn/beta:0', 'stack_3/block_0/depthwise_conv2d/depthwise_kernel:0', 'stack_3/block_0/depthwise_bn/gamma:0', 'stack_3/block_0/depthwise_bn/beta:0', 'stack_3/block_0/project_bn/gamma:0', 'stack_3/block_0/project_bn/beta:0', 'stack_3/block_1/expand_bn/gamma:0', 'stack_3/block_1/expand_bn/beta:0', 'stack_3/block_1/depthwise_conv2d/depthwise_kernel:0', 'stack_3/block_1/depthwise_bn/gamma:0', 'stack_3/block_1/depthwise_bn/beta:0', 'stack_3/block_1/project_bn/gamma:0', 'stack_3/block_1/project_bn/beta:0', 'stack_3/block_2/expand_bn/gamma:0', 'stack_3/block_2/expand_bn/beta:0', 'stack_3/block_2/depthwise_conv2d/depthwise_kernel:0', 'stack_3/block_2/depthwise_bn/gamma:0', 'stack_3/block_2/depthwise_bn/beta:0', 'stack_3/block_2/project_bn/gamma:0', 'stack_3/block_2/project_bn/beta:0', 'stack_4/block_0/expand_bn/gamma:0', 'stack_4/block_0/expand_bn/beta:0', 'stack_4/block_0/depthwise_conv2d/depthwise_kernel:0', 'stack_4/block_0/depthwise_bn/gamma:0', 'stack_4/block_0/depthwise_bn/beta:0', 'stack_4/block_0/project_bn/gamma:0', 'stack_4/block_0/project_bn/beta:0', 'stack_4/block_1/expand_bn/gamma:0', 'stack_4/block_1/expand_bn/beta:0', 'stack_4/block_1/depthwise_conv2d/depthwise_kernel:0', 'stack_4/block_1/depthwise_bn/gamma:0', 'stack_4/block_1/depthwise_bn/beta:0', 'stack_4/block_1/project_bn/gamma:0', 'stack_4/block_1/project_bn/beta:0', 'stack_4/block_2/expand_bn/gamma:0', 'stack_4/block_2/expand_bn/beta:0', 'stack_4/block_2/depthwise_conv2d/depthwise_kernel:0', 'stack_4/block_2/depthwise_bn/gamma:0', 'stack_4/block_2/depthwise_bn/beta:0', 'stack_4/block_2/project_bn/gamma:0', 'stack_4/block_2/project_bn/beta:0', 'stack_5/block_0/expand_bn/gamma:0', 'stack_5/block_0/expand_bn/beta:0', 'stack_5/block_0/depthwise_conv2d/depthwise_kernel:0', 'stack_5/block_0/depthwise_bn/gamma:0', 'stack_5/block_0/depthwise_bn/beta:0', 'stack_5/block_0/project_bn/gamma:0', 'stack_5/block_0/project_bn/beta:0', 'stack_5/block_1/expand_bn/gamma:0', 'stack_5/block_1/expand_bn/beta:0', 'stack_5/block_1/depthwise_conv2d/depthwise_kernel:0', 'stack_5/block_1/depthwise_bn/gamma:0', 'stack_5/block_1/depthwise_bn/beta:0', 'stack_5/block_1/project_bn/gamma:0', 'stack_5/block_1/project_bn/beta:0', 'stack_5/block_2/expand_bn/gamma:0', 'stack_5/block_2/expand_bn/beta:0', 'stack_5/block_2/depthwise_conv2d/depthwise_kernel:0', 'stack_5/block_2/depthwise_bn/gamma:0', 'stack_5/block_2/depthwise_bn/beta:0', 'stack_5/block_2/project_bn/gamma:0', 'stack_5/block_2/project_bn/beta:0', 'stack_5/block_3/expand_bn/gamma:0', 'stack_5/block_3/expand_bn/beta:0', 'stack_5/block_3/depthwise_conv2d/depthwise_kernel:0', 'stack_5/block_3/depthwise_bn/gamma:0', 'stack_5/block_3/depthwise_bn/beta:0', 'stack_5/block_3/project_bn/gamma:0', 'stack_5/block_3/project_bn/beta:0', 'stack_6/block_0/expand_bn/gamma:0', 'stack_6/block_0/expand_bn/beta:0', 'stack_6/block_0/depthwise_conv2d/depthwise_kernel:0', 'stack_6/block_0/depthwise_bn/gamma:0', 'stack_6/block_0/depthwise_bn/beta:0', 'stack_6/block_0/project_bn/gamma:0', 'stack_6/block_0/project_bn/beta:0', 'top_bn/gamma:0', 'top_bn/beta:0'] when minimizing the loss.\n"
     ]
    },
    {
     "name": "stderr",
     "output_type": "stream",
     "text": [
      "WARNING:tensorflow:Gradients do not exist for variables ['S1_C10_0/kernel:0', 'S1_C10_0/bias:0', 'S1_C20_0/kernel:0', 'S1_C20_0/bias:0', 'S1_BN0_0/gamma:0', 'S1_BN0_0/beta:0', 'S1_C11_0/kernel:0', 'S1_C11_0/bias:0', 'S1_C21_0/kernel:0', 'S1_C21_0/bias:0', 'S1_BN1_0/gamma:0', 'S1_BN1_0/beta:0', 'S1_C12_0/kernel:0', 'S1_C12_0/bias:0', 'S1_C22_0/kernel:0', 'S1_C22_0/bias:0', 'S1_BN2_0/gamma:0', 'S1_BN2_0/beta:0', 'S1_C10_1/kernel:0', 'S1_C10_1/bias:0', 'S1_C20_1/kernel:0', 'S1_C20_1/bias:0', 'S1_BN0_1/gamma:0', 'S1_BN0_1/beta:0', 'S1_C11_1/kernel:0', 'S1_C11_1/bias:0', 'S1_C21_1/kernel:0', 'S1_C21_1/bias:0', 'S1_BN1_1/gamma:0', 'S1_BN1_1/beta:0', 'S1_C12_1/kernel:0', 'S1_C12_1/bias:0', 'S1_C22_1/kernel:0', 'S1_C22_1/bias:0', 'S1_BN2_1/gamma:0', 'S1_BN2_1/beta:0', 'stem_bn/gamma:0', 'stem_bn/beta:0', 'stack_0/block_0/depthwise_conv2d/depthwise_kernel:0', 'stack_0/block_0/depthwise_bn/gamma:0', 'stack_0/block_0/depthwise_bn/beta:0', 'stack_0/block_0/project_bn/gamma:0', 'stack_0/block_0/project_bn/beta:0', 'stack_1/block_0/expand_bn/gamma:0', 'stack_1/block_0/expand_bn/beta:0', 'stack_1/block_0/depthwise_conv2d/depthwise_kernel:0', 'stack_1/block_0/depthwise_bn/gamma:0', 'stack_1/block_0/depthwise_bn/beta:0', 'stack_1/block_0/project_bn/gamma:0', 'stack_1/block_0/project_bn/beta:0', 'stack_1/block_1/expand_bn/gamma:0', 'stack_1/block_1/expand_bn/beta:0', 'stack_1/block_1/depthwise_conv2d/depthwise_kernel:0', 'stack_1/block_1/depthwise_bn/gamma:0', 'stack_1/block_1/depthwise_bn/beta:0', 'stack_1/block_1/project_bn/gamma:0', 'stack_1/block_1/project_bn/beta:0', 'stack_2/block_0/expand_bn/gamma:0', 'stack_2/block_0/expand_bn/beta:0', 'stack_2/block_0/depthwise_conv2d/depthwise_kernel:0', 'stack_2/block_0/depthwise_bn/gamma:0', 'stack_2/block_0/depthwise_bn/beta:0', 'stack_2/block_0/project_bn/gamma:0', 'stack_2/block_0/project_bn/beta:0', 'stack_2/block_1/expand_bn/gamma:0', 'stack_2/block_1/expand_bn/beta:0', 'stack_2/block_1/depthwise_conv2d/depthwise_kernel:0', 'stack_2/block_1/depthwise_bn/gamma:0', 'stack_2/block_1/depthwise_bn/beta:0', 'stack_2/block_1/project_bn/gamma:0', 'stack_2/block_1/project_bn/beta:0', 'stack_3/block_0/expand_bn/gamma:0', 'stack_3/block_0/expand_bn/beta:0', 'stack_3/block_0/depthwise_conv2d/depthwise_kernel:0', 'stack_3/block_0/depthwise_bn/gamma:0', 'stack_3/block_0/depthwise_bn/beta:0', 'stack_3/block_0/project_bn/gamma:0', 'stack_3/block_0/project_bn/beta:0', 'stack_3/block_1/expand_bn/gamma:0', 'stack_3/block_1/expand_bn/beta:0', 'stack_3/block_1/depthwise_conv2d/depthwise_kernel:0', 'stack_3/block_1/depthwise_bn/gamma:0', 'stack_3/block_1/depthwise_bn/beta:0', 'stack_3/block_1/project_bn/gamma:0', 'stack_3/block_1/project_bn/beta:0', 'stack_3/block_2/expand_bn/gamma:0', 'stack_3/block_2/expand_bn/beta:0', 'stack_3/block_2/depthwise_conv2d/depthwise_kernel:0', 'stack_3/block_2/depthwise_bn/gamma:0', 'stack_3/block_2/depthwise_bn/beta:0', 'stack_3/block_2/project_bn/gamma:0', 'stack_3/block_2/project_bn/beta:0', 'stack_4/block_0/expand_bn/gamma:0', 'stack_4/block_0/expand_bn/beta:0', 'stack_4/block_0/depthwise_conv2d/depthwise_kernel:0', 'stack_4/block_0/depthwise_bn/gamma:0', 'stack_4/block_0/depthwise_bn/beta:0', 'stack_4/block_0/project_bn/gamma:0', 'stack_4/block_0/project_bn/beta:0', 'stack_4/block_1/expand_bn/gamma:0', 'stack_4/block_1/expand_bn/beta:0', 'stack_4/block_1/depthwise_conv2d/depthwise_kernel:0', 'stack_4/block_1/depthwise_bn/gamma:0', 'stack_4/block_1/depthwise_bn/beta:0', 'stack_4/block_1/project_bn/gamma:0', 'stack_4/block_1/project_bn/beta:0', 'stack_4/block_2/expand_bn/gamma:0', 'stack_4/block_2/expand_bn/beta:0', 'stack_4/block_2/depthwise_conv2d/depthwise_kernel:0', 'stack_4/block_2/depthwise_bn/gamma:0', 'stack_4/block_2/depthwise_bn/beta:0', 'stack_4/block_2/project_bn/gamma:0', 'stack_4/block_2/project_bn/beta:0', 'stack_5/block_0/expand_bn/gamma:0', 'stack_5/block_0/expand_bn/beta:0', 'stack_5/block_0/depthwise_conv2d/depthwise_kernel:0', 'stack_5/block_0/depthwise_bn/gamma:0', 'stack_5/block_0/depthwise_bn/beta:0', 'stack_5/block_0/project_bn/gamma:0', 'stack_5/block_0/project_bn/beta:0', 'stack_5/block_1/expand_bn/gamma:0', 'stack_5/block_1/expand_bn/beta:0', 'stack_5/block_1/depthwise_conv2d/depthwise_kernel:0', 'stack_5/block_1/depthwise_bn/gamma:0', 'stack_5/block_1/depthwise_bn/beta:0', 'stack_5/block_1/project_bn/gamma:0', 'stack_5/block_1/project_bn/beta:0', 'stack_5/block_2/expand_bn/gamma:0', 'stack_5/block_2/expand_bn/beta:0', 'stack_5/block_2/depthwise_conv2d/depthwise_kernel:0', 'stack_5/block_2/depthwise_bn/gamma:0', 'stack_5/block_2/depthwise_bn/beta:0', 'stack_5/block_2/project_bn/gamma:0', 'stack_5/block_2/project_bn/beta:0', 'stack_5/block_3/expand_bn/gamma:0', 'stack_5/block_3/expand_bn/beta:0', 'stack_5/block_3/depthwise_conv2d/depthwise_kernel:0', 'stack_5/block_3/depthwise_bn/gamma:0', 'stack_5/block_3/depthwise_bn/beta:0', 'stack_5/block_3/project_bn/gamma:0', 'stack_5/block_3/project_bn/beta:0', 'stack_6/block_0/expand_bn/gamma:0', 'stack_6/block_0/expand_bn/beta:0', 'stack_6/block_0/depthwise_conv2d/depthwise_kernel:0', 'stack_6/block_0/depthwise_bn/gamma:0', 'stack_6/block_0/depthwise_bn/beta:0', 'stack_6/block_0/project_bn/gamma:0', 'stack_6/block_0/project_bn/beta:0', 'top_bn/gamma:0', 'top_bn/beta:0'] when minimizing the loss.\n"
     ]
    },
    {
     "name": "stdout",
     "output_type": "stream",
     "text": [
      "WARNING:tensorflow:Gradients do not exist for variables ['S1_C10_0/kernel:0', 'S1_C10_0/bias:0', 'S1_C20_0/kernel:0', 'S1_C20_0/bias:0', 'S1_BN0_0/gamma:0', 'S1_BN0_0/beta:0', 'S1_C11_0/kernel:0', 'S1_C11_0/bias:0', 'S1_C21_0/kernel:0', 'S1_C21_0/bias:0', 'S1_BN1_0/gamma:0', 'S1_BN1_0/beta:0', 'S1_C12_0/kernel:0', 'S1_C12_0/bias:0', 'S1_C22_0/kernel:0', 'S1_C22_0/bias:0', 'S1_BN2_0/gamma:0', 'S1_BN2_0/beta:0', 'S1_C10_1/kernel:0', 'S1_C10_1/bias:0', 'S1_C20_1/kernel:0', 'S1_C20_1/bias:0', 'S1_BN0_1/gamma:0', 'S1_BN0_1/beta:0', 'S1_C11_1/kernel:0', 'S1_C11_1/bias:0', 'S1_C21_1/kernel:0', 'S1_C21_1/bias:0', 'S1_BN1_1/gamma:0', 'S1_BN1_1/beta:0', 'S1_C12_1/kernel:0', 'S1_C12_1/bias:0', 'S1_C22_1/kernel:0', 'S1_C22_1/bias:0', 'S1_BN2_1/gamma:0', 'S1_BN2_1/beta:0', 'stem_bn/gamma:0', 'stem_bn/beta:0', 'stack_0/block_0/depthwise_conv2d/depthwise_kernel:0', 'stack_0/block_0/depthwise_bn/gamma:0', 'stack_0/block_0/depthwise_bn/beta:0', 'stack_0/block_0/project_bn/gamma:0', 'stack_0/block_0/project_bn/beta:0', 'stack_1/block_0/expand_bn/gamma:0', 'stack_1/block_0/expand_bn/beta:0', 'stack_1/block_0/depthwise_conv2d/depthwise_kernel:0', 'stack_1/block_0/depthwise_bn/gamma:0', 'stack_1/block_0/depthwise_bn/beta:0', 'stack_1/block_0/project_bn/gamma:0', 'stack_1/block_0/project_bn/beta:0', 'stack_1/block_1/expand_bn/gamma:0', 'stack_1/block_1/expand_bn/beta:0', 'stack_1/block_1/depthwise_conv2d/depthwise_kernel:0', 'stack_1/block_1/depthwise_bn/gamma:0', 'stack_1/block_1/depthwise_bn/beta:0', 'stack_1/block_1/project_bn/gamma:0', 'stack_1/block_1/project_bn/beta:0', 'stack_2/block_0/expand_bn/gamma:0', 'stack_2/block_0/expand_bn/beta:0', 'stack_2/block_0/depthwise_conv2d/depthwise_kernel:0', 'stack_2/block_0/depthwise_bn/gamma:0', 'stack_2/block_0/depthwise_bn/beta:0', 'stack_2/block_0/project_bn/gamma:0', 'stack_2/block_0/project_bn/beta:0', 'stack_2/block_1/expand_bn/gamma:0', 'stack_2/block_1/expand_bn/beta:0', 'stack_2/block_1/depthwise_conv2d/depthwise_kernel:0', 'stack_2/block_1/depthwise_bn/gamma:0', 'stack_2/block_1/depthwise_bn/beta:0', 'stack_2/block_1/project_bn/gamma:0', 'stack_2/block_1/project_bn/beta:0', 'stack_3/block_0/expand_bn/gamma:0', 'stack_3/block_0/expand_bn/beta:0', 'stack_3/block_0/depthwise_conv2d/depthwise_kernel:0', 'stack_3/block_0/depthwise_bn/gamma:0', 'stack_3/block_0/depthwise_bn/beta:0', 'stack_3/block_0/project_bn/gamma:0', 'stack_3/block_0/project_bn/beta:0', 'stack_3/block_1/expand_bn/gamma:0', 'stack_3/block_1/expand_bn/beta:0', 'stack_3/block_1/depthwise_conv2d/depthwise_kernel:0', 'stack_3/block_1/depthwise_bn/gamma:0', 'stack_3/block_1/depthwise_bn/beta:0', 'stack_3/block_1/project_bn/gamma:0', 'stack_3/block_1/project_bn/beta:0', 'stack_3/block_2/expand_bn/gamma:0', 'stack_3/block_2/expand_bn/beta:0', 'stack_3/block_2/depthwise_conv2d/depthwise_kernel:0', 'stack_3/block_2/depthwise_bn/gamma:0', 'stack_3/block_2/depthwise_bn/beta:0', 'stack_3/block_2/project_bn/gamma:0', 'stack_3/block_2/project_bn/beta:0', 'stack_4/block_0/expand_bn/gamma:0', 'stack_4/block_0/expand_bn/beta:0', 'stack_4/block_0/depthwise_conv2d/depthwise_kernel:0', 'stack_4/block_0/depthwise_bn/gamma:0', 'stack_4/block_0/depthwise_bn/beta:0', 'stack_4/block_0/project_bn/gamma:0', 'stack_4/block_0/project_bn/beta:0', 'stack_4/block_1/expand_bn/gamma:0', 'stack_4/block_1/expand_bn/beta:0', 'stack_4/block_1/depthwise_conv2d/depthwise_kernel:0', 'stack_4/block_1/depthwise_bn/gamma:0', 'stack_4/block_1/depthwise_bn/beta:0', 'stack_4/block_1/project_bn/gamma:0', 'stack_4/block_1/project_bn/beta:0', 'stack_4/block_2/expand_bn/gamma:0', 'stack_4/block_2/expand_bn/beta:0', 'stack_4/block_2/depthwise_conv2d/depthwise_kernel:0', 'stack_4/block_2/depthwise_bn/gamma:0', 'stack_4/block_2/depthwise_bn/beta:0', 'stack_4/block_2/project_bn/gamma:0', 'stack_4/block_2/project_bn/beta:0', 'stack_5/block_0/expand_bn/gamma:0', 'stack_5/block_0/expand_bn/beta:0', 'stack_5/block_0/depthwise_conv2d/depthwise_kernel:0', 'stack_5/block_0/depthwise_bn/gamma:0', 'stack_5/block_0/depthwise_bn/beta:0', 'stack_5/block_0/project_bn/gamma:0', 'stack_5/block_0/project_bn/beta:0', 'stack_5/block_1/expand_bn/gamma:0', 'stack_5/block_1/expand_bn/beta:0', 'stack_5/block_1/depthwise_conv2d/depthwise_kernel:0', 'stack_5/block_1/depthwise_bn/gamma:0', 'stack_5/block_1/depthwise_bn/beta:0', 'stack_5/block_1/project_bn/gamma:0', 'stack_5/block_1/project_bn/beta:0', 'stack_5/block_2/expand_bn/gamma:0', 'stack_5/block_2/expand_bn/beta:0', 'stack_5/block_2/depthwise_conv2d/depthwise_kernel:0', 'stack_5/block_2/depthwise_bn/gamma:0', 'stack_5/block_2/depthwise_bn/beta:0', 'stack_5/block_2/project_bn/gamma:0', 'stack_5/block_2/project_bn/beta:0', 'stack_5/block_3/expand_bn/gamma:0', 'stack_5/block_3/expand_bn/beta:0', 'stack_5/block_3/depthwise_conv2d/depthwise_kernel:0', 'stack_5/block_3/depthwise_bn/gamma:0', 'stack_5/block_3/depthwise_bn/beta:0', 'stack_5/block_3/project_bn/gamma:0', 'stack_5/block_3/project_bn/beta:0', 'stack_6/block_0/expand_bn/gamma:0', 'stack_6/block_0/expand_bn/beta:0', 'stack_6/block_0/depthwise_conv2d/depthwise_kernel:0', 'stack_6/block_0/depthwise_bn/gamma:0', 'stack_6/block_0/depthwise_bn/beta:0', 'stack_6/block_0/project_bn/gamma:0', 'stack_6/block_0/project_bn/beta:0', 'top_bn/gamma:0', 'top_bn/beta:0'] when minimizing the loss.\n"
     ]
    },
    {
     "name": "stderr",
     "output_type": "stream",
     "text": [
      "WARNING:tensorflow:Gradients do not exist for variables ['S1_C10_0/kernel:0', 'S1_C10_0/bias:0', 'S1_C20_0/kernel:0', 'S1_C20_0/bias:0', 'S1_BN0_0/gamma:0', 'S1_BN0_0/beta:0', 'S1_C11_0/kernel:0', 'S1_C11_0/bias:0', 'S1_C21_0/kernel:0', 'S1_C21_0/bias:0', 'S1_BN1_0/gamma:0', 'S1_BN1_0/beta:0', 'S1_C12_0/kernel:0', 'S1_C12_0/bias:0', 'S1_C22_0/kernel:0', 'S1_C22_0/bias:0', 'S1_BN2_0/gamma:0', 'S1_BN2_0/beta:0', 'S1_C10_1/kernel:0', 'S1_C10_1/bias:0', 'S1_C20_1/kernel:0', 'S1_C20_1/bias:0', 'S1_BN0_1/gamma:0', 'S1_BN0_1/beta:0', 'S1_C11_1/kernel:0', 'S1_C11_1/bias:0', 'S1_C21_1/kernel:0', 'S1_C21_1/bias:0', 'S1_BN1_1/gamma:0', 'S1_BN1_1/beta:0', 'S1_C12_1/kernel:0', 'S1_C12_1/bias:0', 'S1_C22_1/kernel:0', 'S1_C22_1/bias:0', 'S1_BN2_1/gamma:0', 'S1_BN2_1/beta:0', 'stem_bn/gamma:0', 'stem_bn/beta:0', 'stack_0/block_0/depthwise_conv2d/depthwise_kernel:0', 'stack_0/block_0/depthwise_bn/gamma:0', 'stack_0/block_0/depthwise_bn/beta:0', 'stack_0/block_0/project_bn/gamma:0', 'stack_0/block_0/project_bn/beta:0', 'stack_1/block_0/expand_bn/gamma:0', 'stack_1/block_0/expand_bn/beta:0', 'stack_1/block_0/depthwise_conv2d/depthwise_kernel:0', 'stack_1/block_0/depthwise_bn/gamma:0', 'stack_1/block_0/depthwise_bn/beta:0', 'stack_1/block_0/project_bn/gamma:0', 'stack_1/block_0/project_bn/beta:0', 'stack_1/block_1/expand_bn/gamma:0', 'stack_1/block_1/expand_bn/beta:0', 'stack_1/block_1/depthwise_conv2d/depthwise_kernel:0', 'stack_1/block_1/depthwise_bn/gamma:0', 'stack_1/block_1/depthwise_bn/beta:0', 'stack_1/block_1/project_bn/gamma:0', 'stack_1/block_1/project_bn/beta:0', 'stack_2/block_0/expand_bn/gamma:0', 'stack_2/block_0/expand_bn/beta:0', 'stack_2/block_0/depthwise_conv2d/depthwise_kernel:0', 'stack_2/block_0/depthwise_bn/gamma:0', 'stack_2/block_0/depthwise_bn/beta:0', 'stack_2/block_0/project_bn/gamma:0', 'stack_2/block_0/project_bn/beta:0', 'stack_2/block_1/expand_bn/gamma:0', 'stack_2/block_1/expand_bn/beta:0', 'stack_2/block_1/depthwise_conv2d/depthwise_kernel:0', 'stack_2/block_1/depthwise_bn/gamma:0', 'stack_2/block_1/depthwise_bn/beta:0', 'stack_2/block_1/project_bn/gamma:0', 'stack_2/block_1/project_bn/beta:0', 'stack_3/block_0/expand_bn/gamma:0', 'stack_3/block_0/expand_bn/beta:0', 'stack_3/block_0/depthwise_conv2d/depthwise_kernel:0', 'stack_3/block_0/depthwise_bn/gamma:0', 'stack_3/block_0/depthwise_bn/beta:0', 'stack_3/block_0/project_bn/gamma:0', 'stack_3/block_0/project_bn/beta:0', 'stack_3/block_1/expand_bn/gamma:0', 'stack_3/block_1/expand_bn/beta:0', 'stack_3/block_1/depthwise_conv2d/depthwise_kernel:0', 'stack_3/block_1/depthwise_bn/gamma:0', 'stack_3/block_1/depthwise_bn/beta:0', 'stack_3/block_1/project_bn/gamma:0', 'stack_3/block_1/project_bn/beta:0', 'stack_3/block_2/expand_bn/gamma:0', 'stack_3/block_2/expand_bn/beta:0', 'stack_3/block_2/depthwise_conv2d/depthwise_kernel:0', 'stack_3/block_2/depthwise_bn/gamma:0', 'stack_3/block_2/depthwise_bn/beta:0', 'stack_3/block_2/project_bn/gamma:0', 'stack_3/block_2/project_bn/beta:0', 'stack_4/block_0/expand_bn/gamma:0', 'stack_4/block_0/expand_bn/beta:0', 'stack_4/block_0/depthwise_conv2d/depthwise_kernel:0', 'stack_4/block_0/depthwise_bn/gamma:0', 'stack_4/block_0/depthwise_bn/beta:0', 'stack_4/block_0/project_bn/gamma:0', 'stack_4/block_0/project_bn/beta:0', 'stack_4/block_1/expand_bn/gamma:0', 'stack_4/block_1/expand_bn/beta:0', 'stack_4/block_1/depthwise_conv2d/depthwise_kernel:0', 'stack_4/block_1/depthwise_bn/gamma:0', 'stack_4/block_1/depthwise_bn/beta:0', 'stack_4/block_1/project_bn/gamma:0', 'stack_4/block_1/project_bn/beta:0', 'stack_4/block_2/expand_bn/gamma:0', 'stack_4/block_2/expand_bn/beta:0', 'stack_4/block_2/depthwise_conv2d/depthwise_kernel:0', 'stack_4/block_2/depthwise_bn/gamma:0', 'stack_4/block_2/depthwise_bn/beta:0', 'stack_4/block_2/project_bn/gamma:0', 'stack_4/block_2/project_bn/beta:0', 'stack_5/block_0/expand_bn/gamma:0', 'stack_5/block_0/expand_bn/beta:0', 'stack_5/block_0/depthwise_conv2d/depthwise_kernel:0', 'stack_5/block_0/depthwise_bn/gamma:0', 'stack_5/block_0/depthwise_bn/beta:0', 'stack_5/block_0/project_bn/gamma:0', 'stack_5/block_0/project_bn/beta:0', 'stack_5/block_1/expand_bn/gamma:0', 'stack_5/block_1/expand_bn/beta:0', 'stack_5/block_1/depthwise_conv2d/depthwise_kernel:0', 'stack_5/block_1/depthwise_bn/gamma:0', 'stack_5/block_1/depthwise_bn/beta:0', 'stack_5/block_1/project_bn/gamma:0', 'stack_5/block_1/project_bn/beta:0', 'stack_5/block_2/expand_bn/gamma:0', 'stack_5/block_2/expand_bn/beta:0', 'stack_5/block_2/depthwise_conv2d/depthwise_kernel:0', 'stack_5/block_2/depthwise_bn/gamma:0', 'stack_5/block_2/depthwise_bn/beta:0', 'stack_5/block_2/project_bn/gamma:0', 'stack_5/block_2/project_bn/beta:0', 'stack_5/block_3/expand_bn/gamma:0', 'stack_5/block_3/expand_bn/beta:0', 'stack_5/block_3/depthwise_conv2d/depthwise_kernel:0', 'stack_5/block_3/depthwise_bn/gamma:0', 'stack_5/block_3/depthwise_bn/beta:0', 'stack_5/block_3/project_bn/gamma:0', 'stack_5/block_3/project_bn/beta:0', 'stack_6/block_0/expand_bn/gamma:0', 'stack_6/block_0/expand_bn/beta:0', 'stack_6/block_0/depthwise_conv2d/depthwise_kernel:0', 'stack_6/block_0/depthwise_bn/gamma:0', 'stack_6/block_0/depthwise_bn/beta:0', 'stack_6/block_0/project_bn/gamma:0', 'stack_6/block_0/project_bn/beta:0', 'top_bn/gamma:0', 'top_bn/beta:0'] when minimizing the loss.\n"
     ]
    },
    {
     "ename": "AttributeError",
     "evalue": "in user code:\n\n    C:\\Users\\muell\\AppData\\Roaming\\Python\\Python38\\site-packages\\tensorflow\\python\\keras\\engine\\training.py:806 train_function  *\n        return step_function(self, iterator)\n    C:\\Users\\muell\\AppData\\Roaming\\Python\\Python38\\site-packages\\tensorflow\\python\\keras\\engine\\training.py:796 step_function  **\n        outputs = model.distribute_strategy.run(run_step, args=(data,))\n    C:\\Users\\muell\\AppData\\Roaming\\Python\\Python38\\site-packages\\tensorflow\\python\\distribute\\distribute_lib.py:1211 run\n        return self._extended.call_for_each_replica(fn, args=args, kwargs=kwargs)\n    C:\\Users\\muell\\AppData\\Roaming\\Python\\Python38\\site-packages\\tensorflow\\python\\distribute\\distribute_lib.py:2585 call_for_each_replica\n        return self._call_for_each_replica(fn, args, kwargs)\n    C:\\Users\\muell\\AppData\\Roaming\\Python\\Python38\\site-packages\\tensorflow\\python\\distribute\\distribute_lib.py:2945 _call_for_each_replica\n        return fn(*args, **kwargs)\n    C:\\Users\\muell\\AppData\\Roaming\\Python\\Python38\\site-packages\\tensorflow\\python\\keras\\engine\\training.py:789 run_step  **\n        outputs = model.train_step(data)\n    C:\\Users\\muell\\AppData\\Roaming\\Python\\Python38\\site-packages\\tensorflow\\python\\keras\\engine\\training.py:759 train_step\n        self.compiled_metrics.update_state(y, y_pred, sample_weight)\n    C:\\Users\\muell\\AppData\\Roaming\\Python\\Python38\\site-packages\\tensorflow\\python\\keras\\engine\\compile_utils.py:388 update_state\n        self.build(y_pred, y_true)\n    C:\\Users\\muell\\AppData\\Roaming\\Python\\Python38\\site-packages\\tensorflow\\python\\keras\\engine\\compile_utils.py:318 build\n        self._metrics = nest.map_structure_up_to(y_pred, self._get_metric_objects,\n    C:\\Users\\muell\\AppData\\Roaming\\Python\\Python38\\site-packages\\tensorflow\\python\\util\\nest.py:1135 map_structure_up_to\n        return map_structure_with_tuple_paths_up_to(\n    C:\\Users\\muell\\AppData\\Roaming\\Python\\Python38\\site-packages\\tensorflow\\python\\util\\nest.py:1234 map_structure_with_tuple_paths_up_to\n        results = [func(*args, **kwargs) for args in zip(flat_path_list,\n    C:\\Users\\muell\\AppData\\Roaming\\Python\\Python38\\site-packages\\tensorflow\\python\\util\\nest.py:1234 <listcomp>\n        results = [func(*args, **kwargs) for args in zip(flat_path_list,\n    C:\\Users\\muell\\AppData\\Roaming\\Python\\Python38\\site-packages\\tensorflow\\python\\util\\nest.py:1137 <lambda>\n        lambda _, *values: func(*values),  # Discards the path arg.\n    C:\\Users\\muell\\AppData\\Roaming\\Python\\Python38\\site-packages\\tensorflow\\python\\keras\\engine\\compile_utils.py:419 _get_metric_objects\n        return [self._get_metric_object(m, y_t, y_p) for m in metrics]\n    C:\\Users\\muell\\AppData\\Roaming\\Python\\Python38\\site-packages\\tensorflow\\python\\keras\\engine\\compile_utils.py:419 <listcomp>\n        return [self._get_metric_object(m, y_t, y_p) for m in metrics]\n    C:\\Users\\muell\\AppData\\Roaming\\Python\\Python38\\site-packages\\tensorflow\\python\\keras\\engine\\compile_utils.py:440 _get_metric_object\n        y_t_rank = len(y_t.shape.as_list())\n\n    AttributeError: 'NoneType' object has no attribute 'shape'\n",
     "output_type": "error",
     "traceback": [
      "\u001b[1;31m---------------------------------------------------------------------------\u001b[0m",
      "\u001b[1;31mAttributeError\u001b[0m                            Traceback (most recent call last)",
      "\u001b[1;32m<ipython-input-20-ae8bf82afea0>\u001b[0m in \u001b[0;36m<module>\u001b[1;34m\u001b[0m\n\u001b[1;32m----> 1\u001b[1;33m \u001b[0mmodel\u001b[0m\u001b[1;33m.\u001b[0m\u001b[0mfit\u001b[0m\u001b[1;33m(\u001b[0m\u001b[1;33m(\u001b[0m\u001b[1;33m[\u001b[0m\u001b[0mtrainv\u001b[0m\u001b[1;33m,\u001b[0m \u001b[0mtrainh\u001b[0m\u001b[1;33m]\u001b[0m\u001b[1;33m,\u001b[0m \u001b[0mlabel_train_cat\u001b[0m\u001b[1;33m)\u001b[0m\u001b[1;33m,\u001b[0m \u001b[0mepochs\u001b[0m\u001b[1;33m=\u001b[0m\u001b[1;36m10\u001b[0m\u001b[1;33m,\u001b[0m \u001b[0mverbose\u001b[0m\u001b[1;33m=\u001b[0m\u001b[1;36m2\u001b[0m\u001b[1;33m,\u001b[0m \u001b[0mbatch_size\u001b[0m\u001b[1;33m=\u001b[0m\u001b[1;36m1\u001b[0m\u001b[1;33m)\u001b[0m\u001b[1;31m#, validation_data=generator_test)\u001b[0m\u001b[1;33m\u001b[0m\u001b[1;33m\u001b[0m\u001b[0m\n\u001b[0m",
      "\u001b[1;32m~\\AppData\\Roaming\\Python\\Python38\\site-packages\\tensorflow\\python\\keras\\engine\\training.py\u001b[0m in \u001b[0;36m_method_wrapper\u001b[1;34m(self, *args, **kwargs)\u001b[0m\n\u001b[0;32m    106\u001b[0m   \u001b[1;32mdef\u001b[0m \u001b[0m_method_wrapper\u001b[0m\u001b[1;33m(\u001b[0m\u001b[0mself\u001b[0m\u001b[1;33m,\u001b[0m \u001b[1;33m*\u001b[0m\u001b[0margs\u001b[0m\u001b[1;33m,\u001b[0m \u001b[1;33m**\u001b[0m\u001b[0mkwargs\u001b[0m\u001b[1;33m)\u001b[0m\u001b[1;33m:\u001b[0m\u001b[1;33m\u001b[0m\u001b[1;33m\u001b[0m\u001b[0m\n\u001b[0;32m    107\u001b[0m     \u001b[1;32mif\u001b[0m \u001b[1;32mnot\u001b[0m \u001b[0mself\u001b[0m\u001b[1;33m.\u001b[0m\u001b[0m_in_multi_worker_mode\u001b[0m\u001b[1;33m(\u001b[0m\u001b[1;33m)\u001b[0m\u001b[1;33m:\u001b[0m  \u001b[1;31m# pylint: disable=protected-access\u001b[0m\u001b[1;33m\u001b[0m\u001b[1;33m\u001b[0m\u001b[0m\n\u001b[1;32m--> 108\u001b[1;33m       \u001b[1;32mreturn\u001b[0m \u001b[0mmethod\u001b[0m\u001b[1;33m(\u001b[0m\u001b[0mself\u001b[0m\u001b[1;33m,\u001b[0m \u001b[1;33m*\u001b[0m\u001b[0margs\u001b[0m\u001b[1;33m,\u001b[0m \u001b[1;33m**\u001b[0m\u001b[0mkwargs\u001b[0m\u001b[1;33m)\u001b[0m\u001b[1;33m\u001b[0m\u001b[1;33m\u001b[0m\u001b[0m\n\u001b[0m\u001b[0;32m    109\u001b[0m \u001b[1;33m\u001b[0m\u001b[0m\n\u001b[0;32m    110\u001b[0m     \u001b[1;31m# Running inside `run_distribute_coordinator` already.\u001b[0m\u001b[1;33m\u001b[0m\u001b[1;33m\u001b[0m\u001b[1;33m\u001b[0m\u001b[0m\n",
      "\u001b[1;32m~\\AppData\\Roaming\\Python\\Python38\\site-packages\\tensorflow\\python\\keras\\engine\\training.py\u001b[0m in \u001b[0;36mfit\u001b[1;34m(self, x, y, batch_size, epochs, verbose, callbacks, validation_split, validation_data, shuffle, class_weight, sample_weight, initial_epoch, steps_per_epoch, validation_steps, validation_batch_size, validation_freq, max_queue_size, workers, use_multiprocessing)\u001b[0m\n\u001b[0;32m   1096\u001b[0m                 batch_size=batch_size):\n\u001b[0;32m   1097\u001b[0m               \u001b[0mcallbacks\u001b[0m\u001b[1;33m.\u001b[0m\u001b[0mon_train_batch_begin\u001b[0m\u001b[1;33m(\u001b[0m\u001b[0mstep\u001b[0m\u001b[1;33m)\u001b[0m\u001b[1;33m\u001b[0m\u001b[1;33m\u001b[0m\u001b[0m\n\u001b[1;32m-> 1098\u001b[1;33m               \u001b[0mtmp_logs\u001b[0m \u001b[1;33m=\u001b[0m \u001b[0mtrain_function\u001b[0m\u001b[1;33m(\u001b[0m\u001b[0miterator\u001b[0m\u001b[1;33m)\u001b[0m\u001b[1;33m\u001b[0m\u001b[1;33m\u001b[0m\u001b[0m\n\u001b[0m\u001b[0;32m   1099\u001b[0m               \u001b[1;32mif\u001b[0m \u001b[0mdata_handler\u001b[0m\u001b[1;33m.\u001b[0m\u001b[0mshould_sync\u001b[0m\u001b[1;33m:\u001b[0m\u001b[1;33m\u001b[0m\u001b[1;33m\u001b[0m\u001b[0m\n\u001b[0;32m   1100\u001b[0m                 \u001b[0mcontext\u001b[0m\u001b[1;33m.\u001b[0m\u001b[0masync_wait\u001b[0m\u001b[1;33m(\u001b[0m\u001b[1;33m)\u001b[0m\u001b[1;33m\u001b[0m\u001b[1;33m\u001b[0m\u001b[0m\n",
      "\u001b[1;32m~\\AppData\\Roaming\\Python\\Python38\\site-packages\\tensorflow\\python\\eager\\def_function.py\u001b[0m in \u001b[0;36m__call__\u001b[1;34m(self, *args, **kwds)\u001b[0m\n\u001b[0;32m    778\u001b[0m       \u001b[1;32melse\u001b[0m\u001b[1;33m:\u001b[0m\u001b[1;33m\u001b[0m\u001b[1;33m\u001b[0m\u001b[0m\n\u001b[0;32m    779\u001b[0m         \u001b[0mcompiler\u001b[0m \u001b[1;33m=\u001b[0m \u001b[1;34m\"nonXla\"\u001b[0m\u001b[1;33m\u001b[0m\u001b[1;33m\u001b[0m\u001b[0m\n\u001b[1;32m--> 780\u001b[1;33m         \u001b[0mresult\u001b[0m \u001b[1;33m=\u001b[0m \u001b[0mself\u001b[0m\u001b[1;33m.\u001b[0m\u001b[0m_call\u001b[0m\u001b[1;33m(\u001b[0m\u001b[1;33m*\u001b[0m\u001b[0margs\u001b[0m\u001b[1;33m,\u001b[0m \u001b[1;33m**\u001b[0m\u001b[0mkwds\u001b[0m\u001b[1;33m)\u001b[0m\u001b[1;33m\u001b[0m\u001b[1;33m\u001b[0m\u001b[0m\n\u001b[0m\u001b[0;32m    781\u001b[0m \u001b[1;33m\u001b[0m\u001b[0m\n\u001b[0;32m    782\u001b[0m       \u001b[0mnew_tracing_count\u001b[0m \u001b[1;33m=\u001b[0m \u001b[0mself\u001b[0m\u001b[1;33m.\u001b[0m\u001b[0m_get_tracing_count\u001b[0m\u001b[1;33m(\u001b[0m\u001b[1;33m)\u001b[0m\u001b[1;33m\u001b[0m\u001b[1;33m\u001b[0m\u001b[0m\n",
      "\u001b[1;32m~\\AppData\\Roaming\\Python\\Python38\\site-packages\\tensorflow\\python\\eager\\def_function.py\u001b[0m in \u001b[0;36m_call\u001b[1;34m(self, *args, **kwds)\u001b[0m\n\u001b[0;32m    821\u001b[0m       \u001b[1;31m# This is the first call of __call__, so we have to initialize.\u001b[0m\u001b[1;33m\u001b[0m\u001b[1;33m\u001b[0m\u001b[1;33m\u001b[0m\u001b[0m\n\u001b[0;32m    822\u001b[0m       \u001b[0minitializers\u001b[0m \u001b[1;33m=\u001b[0m \u001b[1;33m[\u001b[0m\u001b[1;33m]\u001b[0m\u001b[1;33m\u001b[0m\u001b[1;33m\u001b[0m\u001b[0m\n\u001b[1;32m--> 823\u001b[1;33m       \u001b[0mself\u001b[0m\u001b[1;33m.\u001b[0m\u001b[0m_initialize\u001b[0m\u001b[1;33m(\u001b[0m\u001b[0margs\u001b[0m\u001b[1;33m,\u001b[0m \u001b[0mkwds\u001b[0m\u001b[1;33m,\u001b[0m \u001b[0madd_initializers_to\u001b[0m\u001b[1;33m=\u001b[0m\u001b[0minitializers\u001b[0m\u001b[1;33m)\u001b[0m\u001b[1;33m\u001b[0m\u001b[1;33m\u001b[0m\u001b[0m\n\u001b[0m\u001b[0;32m    824\u001b[0m     \u001b[1;32mfinally\u001b[0m\u001b[1;33m:\u001b[0m\u001b[1;33m\u001b[0m\u001b[1;33m\u001b[0m\u001b[0m\n\u001b[0;32m    825\u001b[0m       \u001b[1;31m# At this point we know that the initialization is complete (or less\u001b[0m\u001b[1;33m\u001b[0m\u001b[1;33m\u001b[0m\u001b[1;33m\u001b[0m\u001b[0m\n",
      "\u001b[1;32m~\\AppData\\Roaming\\Python\\Python38\\site-packages\\tensorflow\\python\\eager\\def_function.py\u001b[0m in \u001b[0;36m_initialize\u001b[1;34m(self, args, kwds, add_initializers_to)\u001b[0m\n\u001b[0;32m    694\u001b[0m     \u001b[0mself\u001b[0m\u001b[1;33m.\u001b[0m\u001b[0m_graph_deleter\u001b[0m \u001b[1;33m=\u001b[0m \u001b[0mFunctionDeleter\u001b[0m\u001b[1;33m(\u001b[0m\u001b[0mself\u001b[0m\u001b[1;33m.\u001b[0m\u001b[0m_lifted_initializer_graph\u001b[0m\u001b[1;33m)\u001b[0m\u001b[1;33m\u001b[0m\u001b[1;33m\u001b[0m\u001b[0m\n\u001b[0;32m    695\u001b[0m     self._concrete_stateful_fn = (\n\u001b[1;32m--> 696\u001b[1;33m         self._stateful_fn._get_concrete_function_internal_garbage_collected(  # pylint: disable=protected-access\n\u001b[0m\u001b[0;32m    697\u001b[0m             *args, **kwds))\n\u001b[0;32m    698\u001b[0m \u001b[1;33m\u001b[0m\u001b[0m\n",
      "\u001b[1;32m~\\AppData\\Roaming\\Python\\Python38\\site-packages\\tensorflow\\python\\eager\\function.py\u001b[0m in \u001b[0;36m_get_concrete_function_internal_garbage_collected\u001b[1;34m(self, *args, **kwargs)\u001b[0m\n\u001b[0;32m   2853\u001b[0m       \u001b[0margs\u001b[0m\u001b[1;33m,\u001b[0m \u001b[0mkwargs\u001b[0m \u001b[1;33m=\u001b[0m \u001b[1;32mNone\u001b[0m\u001b[1;33m,\u001b[0m \u001b[1;32mNone\u001b[0m\u001b[1;33m\u001b[0m\u001b[1;33m\u001b[0m\u001b[0m\n\u001b[0;32m   2854\u001b[0m     \u001b[1;32mwith\u001b[0m \u001b[0mself\u001b[0m\u001b[1;33m.\u001b[0m\u001b[0m_lock\u001b[0m\u001b[1;33m:\u001b[0m\u001b[1;33m\u001b[0m\u001b[1;33m\u001b[0m\u001b[0m\n\u001b[1;32m-> 2855\u001b[1;33m       \u001b[0mgraph_function\u001b[0m\u001b[1;33m,\u001b[0m \u001b[0m_\u001b[0m\u001b[1;33m,\u001b[0m \u001b[0m_\u001b[0m \u001b[1;33m=\u001b[0m \u001b[0mself\u001b[0m\u001b[1;33m.\u001b[0m\u001b[0m_maybe_define_function\u001b[0m\u001b[1;33m(\u001b[0m\u001b[0margs\u001b[0m\u001b[1;33m,\u001b[0m \u001b[0mkwargs\u001b[0m\u001b[1;33m)\u001b[0m\u001b[1;33m\u001b[0m\u001b[1;33m\u001b[0m\u001b[0m\n\u001b[0m\u001b[0;32m   2856\u001b[0m     \u001b[1;32mreturn\u001b[0m \u001b[0mgraph_function\u001b[0m\u001b[1;33m\u001b[0m\u001b[1;33m\u001b[0m\u001b[0m\n\u001b[0;32m   2857\u001b[0m \u001b[1;33m\u001b[0m\u001b[0m\n",
      "\u001b[1;32m~\\AppData\\Roaming\\Python\\Python38\\site-packages\\tensorflow\\python\\eager\\function.py\u001b[0m in \u001b[0;36m_maybe_define_function\u001b[1;34m(self, args, kwargs)\u001b[0m\n\u001b[0;32m   3211\u001b[0m \u001b[1;33m\u001b[0m\u001b[0m\n\u001b[0;32m   3212\u001b[0m       \u001b[0mself\u001b[0m\u001b[1;33m.\u001b[0m\u001b[0m_function_cache\u001b[0m\u001b[1;33m.\u001b[0m\u001b[0mmissed\u001b[0m\u001b[1;33m.\u001b[0m\u001b[0madd\u001b[0m\u001b[1;33m(\u001b[0m\u001b[0mcall_context_key\u001b[0m\u001b[1;33m)\u001b[0m\u001b[1;33m\u001b[0m\u001b[1;33m\u001b[0m\u001b[0m\n\u001b[1;32m-> 3213\u001b[1;33m       \u001b[0mgraph_function\u001b[0m \u001b[1;33m=\u001b[0m \u001b[0mself\u001b[0m\u001b[1;33m.\u001b[0m\u001b[0m_create_graph_function\u001b[0m\u001b[1;33m(\u001b[0m\u001b[0margs\u001b[0m\u001b[1;33m,\u001b[0m \u001b[0mkwargs\u001b[0m\u001b[1;33m)\u001b[0m\u001b[1;33m\u001b[0m\u001b[1;33m\u001b[0m\u001b[0m\n\u001b[0m\u001b[0;32m   3214\u001b[0m       \u001b[0mself\u001b[0m\u001b[1;33m.\u001b[0m\u001b[0m_function_cache\u001b[0m\u001b[1;33m.\u001b[0m\u001b[0mprimary\u001b[0m\u001b[1;33m[\u001b[0m\u001b[0mcache_key\u001b[0m\u001b[1;33m]\u001b[0m \u001b[1;33m=\u001b[0m \u001b[0mgraph_function\u001b[0m\u001b[1;33m\u001b[0m\u001b[1;33m\u001b[0m\u001b[0m\n\u001b[0;32m   3215\u001b[0m       \u001b[1;32mreturn\u001b[0m \u001b[0mgraph_function\u001b[0m\u001b[1;33m,\u001b[0m \u001b[0margs\u001b[0m\u001b[1;33m,\u001b[0m \u001b[0mkwargs\u001b[0m\u001b[1;33m\u001b[0m\u001b[1;33m\u001b[0m\u001b[0m\n",
      "\u001b[1;32m~\\AppData\\Roaming\\Python\\Python38\\site-packages\\tensorflow\\python\\eager\\function.py\u001b[0m in \u001b[0;36m_create_graph_function\u001b[1;34m(self, args, kwargs, override_flat_arg_shapes)\u001b[0m\n\u001b[0;32m   3063\u001b[0m     \u001b[0marg_names\u001b[0m \u001b[1;33m=\u001b[0m \u001b[0mbase_arg_names\u001b[0m \u001b[1;33m+\u001b[0m \u001b[0mmissing_arg_names\u001b[0m\u001b[1;33m\u001b[0m\u001b[1;33m\u001b[0m\u001b[0m\n\u001b[0;32m   3064\u001b[0m     graph_function = ConcreteFunction(\n\u001b[1;32m-> 3065\u001b[1;33m         func_graph_module.func_graph_from_py_func(\n\u001b[0m\u001b[0;32m   3066\u001b[0m             \u001b[0mself\u001b[0m\u001b[1;33m.\u001b[0m\u001b[0m_name\u001b[0m\u001b[1;33m,\u001b[0m\u001b[1;33m\u001b[0m\u001b[1;33m\u001b[0m\u001b[0m\n\u001b[0;32m   3067\u001b[0m             \u001b[0mself\u001b[0m\u001b[1;33m.\u001b[0m\u001b[0m_python_function\u001b[0m\u001b[1;33m,\u001b[0m\u001b[1;33m\u001b[0m\u001b[1;33m\u001b[0m\u001b[0m\n",
      "\u001b[1;32m~\\AppData\\Roaming\\Python\\Python38\\site-packages\\tensorflow\\python\\framework\\func_graph.py\u001b[0m in \u001b[0;36mfunc_graph_from_py_func\u001b[1;34m(name, python_func, args, kwargs, signature, func_graph, autograph, autograph_options, add_control_dependencies, arg_names, op_return_value, collections, capture_by_value, override_flat_arg_shapes)\u001b[0m\n\u001b[0;32m    984\u001b[0m         \u001b[0m_\u001b[0m\u001b[1;33m,\u001b[0m \u001b[0moriginal_func\u001b[0m \u001b[1;33m=\u001b[0m \u001b[0mtf_decorator\u001b[0m\u001b[1;33m.\u001b[0m\u001b[0munwrap\u001b[0m\u001b[1;33m(\u001b[0m\u001b[0mpython_func\u001b[0m\u001b[1;33m)\u001b[0m\u001b[1;33m\u001b[0m\u001b[1;33m\u001b[0m\u001b[0m\n\u001b[0;32m    985\u001b[0m \u001b[1;33m\u001b[0m\u001b[0m\n\u001b[1;32m--> 986\u001b[1;33m       \u001b[0mfunc_outputs\u001b[0m \u001b[1;33m=\u001b[0m \u001b[0mpython_func\u001b[0m\u001b[1;33m(\u001b[0m\u001b[1;33m*\u001b[0m\u001b[0mfunc_args\u001b[0m\u001b[1;33m,\u001b[0m \u001b[1;33m**\u001b[0m\u001b[0mfunc_kwargs\u001b[0m\u001b[1;33m)\u001b[0m\u001b[1;33m\u001b[0m\u001b[1;33m\u001b[0m\u001b[0m\n\u001b[0m\u001b[0;32m    987\u001b[0m \u001b[1;33m\u001b[0m\u001b[0m\n\u001b[0;32m    988\u001b[0m       \u001b[1;31m# invariant: `func_outputs` contains only Tensors, CompositeTensors,\u001b[0m\u001b[1;33m\u001b[0m\u001b[1;33m\u001b[0m\u001b[1;33m\u001b[0m\u001b[0m\n",
      "\u001b[1;32m~\\AppData\\Roaming\\Python\\Python38\\site-packages\\tensorflow\\python\\eager\\def_function.py\u001b[0m in \u001b[0;36mwrapped_fn\u001b[1;34m(*args, **kwds)\u001b[0m\n\u001b[0;32m    598\u001b[0m         \u001b[1;31m# __wrapped__ allows AutoGraph to swap in a converted function. We give\u001b[0m\u001b[1;33m\u001b[0m\u001b[1;33m\u001b[0m\u001b[1;33m\u001b[0m\u001b[0m\n\u001b[0;32m    599\u001b[0m         \u001b[1;31m# the function a weak reference to itself to avoid a reference cycle.\u001b[0m\u001b[1;33m\u001b[0m\u001b[1;33m\u001b[0m\u001b[1;33m\u001b[0m\u001b[0m\n\u001b[1;32m--> 600\u001b[1;33m         \u001b[1;32mreturn\u001b[0m \u001b[0mweak_wrapped_fn\u001b[0m\u001b[1;33m(\u001b[0m\u001b[1;33m)\u001b[0m\u001b[1;33m.\u001b[0m\u001b[0m__wrapped__\u001b[0m\u001b[1;33m(\u001b[0m\u001b[1;33m*\u001b[0m\u001b[0margs\u001b[0m\u001b[1;33m,\u001b[0m \u001b[1;33m**\u001b[0m\u001b[0mkwds\u001b[0m\u001b[1;33m)\u001b[0m\u001b[1;33m\u001b[0m\u001b[1;33m\u001b[0m\u001b[0m\n\u001b[0m\u001b[0;32m    601\u001b[0m     \u001b[0mweak_wrapped_fn\u001b[0m \u001b[1;33m=\u001b[0m \u001b[0mweakref\u001b[0m\u001b[1;33m.\u001b[0m\u001b[0mref\u001b[0m\u001b[1;33m(\u001b[0m\u001b[0mwrapped_fn\u001b[0m\u001b[1;33m)\u001b[0m\u001b[1;33m\u001b[0m\u001b[1;33m\u001b[0m\u001b[0m\n\u001b[0;32m    602\u001b[0m \u001b[1;33m\u001b[0m\u001b[0m\n",
      "\u001b[1;32m~\\AppData\\Roaming\\Python\\Python38\\site-packages\\tensorflow\\python\\framework\\func_graph.py\u001b[0m in \u001b[0;36mwrapper\u001b[1;34m(*args, **kwargs)\u001b[0m\n\u001b[0;32m    971\u001b[0m           \u001b[1;32mexcept\u001b[0m \u001b[0mException\u001b[0m \u001b[1;32mas\u001b[0m \u001b[0me\u001b[0m\u001b[1;33m:\u001b[0m  \u001b[1;31m# pylint:disable=broad-except\u001b[0m\u001b[1;33m\u001b[0m\u001b[1;33m\u001b[0m\u001b[0m\n\u001b[0;32m    972\u001b[0m             \u001b[1;32mif\u001b[0m \u001b[0mhasattr\u001b[0m\u001b[1;33m(\u001b[0m\u001b[0me\u001b[0m\u001b[1;33m,\u001b[0m \u001b[1;34m\"ag_error_metadata\"\u001b[0m\u001b[1;33m)\u001b[0m\u001b[1;33m:\u001b[0m\u001b[1;33m\u001b[0m\u001b[1;33m\u001b[0m\u001b[0m\n\u001b[1;32m--> 973\u001b[1;33m               \u001b[1;32mraise\u001b[0m \u001b[0me\u001b[0m\u001b[1;33m.\u001b[0m\u001b[0mag_error_metadata\u001b[0m\u001b[1;33m.\u001b[0m\u001b[0mto_exception\u001b[0m\u001b[1;33m(\u001b[0m\u001b[0me\u001b[0m\u001b[1;33m)\u001b[0m\u001b[1;33m\u001b[0m\u001b[1;33m\u001b[0m\u001b[0m\n\u001b[0m\u001b[0;32m    974\u001b[0m             \u001b[1;32melse\u001b[0m\u001b[1;33m:\u001b[0m\u001b[1;33m\u001b[0m\u001b[1;33m\u001b[0m\u001b[0m\n\u001b[0;32m    975\u001b[0m               \u001b[1;32mraise\u001b[0m\u001b[1;33m\u001b[0m\u001b[1;33m\u001b[0m\u001b[0m\n",
      "\u001b[1;31mAttributeError\u001b[0m: in user code:\n\n    C:\\Users\\muell\\AppData\\Roaming\\Python\\Python38\\site-packages\\tensorflow\\python\\keras\\engine\\training.py:806 train_function  *\n        return step_function(self, iterator)\n    C:\\Users\\muell\\AppData\\Roaming\\Python\\Python38\\site-packages\\tensorflow\\python\\keras\\engine\\training.py:796 step_function  **\n        outputs = model.distribute_strategy.run(run_step, args=(data,))\n    C:\\Users\\muell\\AppData\\Roaming\\Python\\Python38\\site-packages\\tensorflow\\python\\distribute\\distribute_lib.py:1211 run\n        return self._extended.call_for_each_replica(fn, args=args, kwargs=kwargs)\n    C:\\Users\\muell\\AppData\\Roaming\\Python\\Python38\\site-packages\\tensorflow\\python\\distribute\\distribute_lib.py:2585 call_for_each_replica\n        return self._call_for_each_replica(fn, args, kwargs)\n    C:\\Users\\muell\\AppData\\Roaming\\Python\\Python38\\site-packages\\tensorflow\\python\\distribute\\distribute_lib.py:2945 _call_for_each_replica\n        return fn(*args, **kwargs)\n    C:\\Users\\muell\\AppData\\Roaming\\Python\\Python38\\site-packages\\tensorflow\\python\\keras\\engine\\training.py:789 run_step  **\n        outputs = model.train_step(data)\n    C:\\Users\\muell\\AppData\\Roaming\\Python\\Python38\\site-packages\\tensorflow\\python\\keras\\engine\\training.py:759 train_step\n        self.compiled_metrics.update_state(y, y_pred, sample_weight)\n    C:\\Users\\muell\\AppData\\Roaming\\Python\\Python38\\site-packages\\tensorflow\\python\\keras\\engine\\compile_utils.py:388 update_state\n        self.build(y_pred, y_true)\n    C:\\Users\\muell\\AppData\\Roaming\\Python\\Python38\\site-packages\\tensorflow\\python\\keras\\engine\\compile_utils.py:318 build\n        self._metrics = nest.map_structure_up_to(y_pred, self._get_metric_objects,\n    C:\\Users\\muell\\AppData\\Roaming\\Python\\Python38\\site-packages\\tensorflow\\python\\util\\nest.py:1135 map_structure_up_to\n        return map_structure_with_tuple_paths_up_to(\n    C:\\Users\\muell\\AppData\\Roaming\\Python\\Python38\\site-packages\\tensorflow\\python\\util\\nest.py:1234 map_structure_with_tuple_paths_up_to\n        results = [func(*args, **kwargs) for args in zip(flat_path_list,\n    C:\\Users\\muell\\AppData\\Roaming\\Python\\Python38\\site-packages\\tensorflow\\python\\util\\nest.py:1234 <listcomp>\n        results = [func(*args, **kwargs) for args in zip(flat_path_list,\n    C:\\Users\\muell\\AppData\\Roaming\\Python\\Python38\\site-packages\\tensorflow\\python\\util\\nest.py:1137 <lambda>\n        lambda _, *values: func(*values),  # Discards the path arg.\n    C:\\Users\\muell\\AppData\\Roaming\\Python\\Python38\\site-packages\\tensorflow\\python\\keras\\engine\\compile_utils.py:419 _get_metric_objects\n        return [self._get_metric_object(m, y_t, y_p) for m in metrics]\n    C:\\Users\\muell\\AppData\\Roaming\\Python\\Python38\\site-packages\\tensorflow\\python\\keras\\engine\\compile_utils.py:419 <listcomp>\n        return [self._get_metric_object(m, y_t, y_p) for m in metrics]\n    C:\\Users\\muell\\AppData\\Roaming\\Python\\Python38\\site-packages\\tensorflow\\python\\keras\\engine\\compile_utils.py:440 _get_metric_object\n        y_t_rank = len(y_t.shape.as_list())\n\n    AttributeError: 'NoneType' object has no attribute 'shape'\n"
     ]
    }
   ],
   "source": [
    "model.fit(([trainv, trainh], label_train_cat), epochs=10, verbose=2, batch_size=1)#, validation_data=generator_test)"
   ]
  },
  {
   "cell_type": "code",
   "execution_count": 6,
   "metadata": {},
   "outputs": [
    {
     "name": "stdout",
     "output_type": "stream",
     "text": [
      "(300, 236, 236, 7)\n"
     ]
    }
   ],
   "source": [
    "trainv = np.concatenate([np.zeros((100,236,236,7)), np.ones((100,236,236,7)), np.ones((100,236,236,7))+1], axis=0).astype('float32')\n",
    "print(trainv.shape)\n"
   ]
  },
  {
   "cell_type": "code",
   "execution_count": 4,
   "metadata": {},
   "outputs": [
    {
     "data": {
      "text/plain": [
       "[2, 0]"
      ]
     },
     "execution_count": 4,
     "metadata": {},
     "output_type": "execute_result"
    }
   ],
   "source": [
    "[2*1] + [2*0]"
   ]
  },
  {
   "cell_type": "code",
   "execution_count": null,
   "metadata": {},
   "outputs": [],
   "source": []
  }
 ],
 "metadata": {
  "kernelspec": {
   "display_name": "Python 3",
   "language": "python",
   "name": "python3"
  },
  "language_info": {
   "codemirror_mode": {
    "name": "ipython",
    "version": 3
   },
   "file_extension": ".py",
   "mimetype": "text/x-python",
   "name": "python",
   "nbconvert_exporter": "python",
   "pygments_lexer": "ipython3",
   "version": "3.8.5"
  }
 },
 "nbformat": 4,
 "nbformat_minor": 4
}
