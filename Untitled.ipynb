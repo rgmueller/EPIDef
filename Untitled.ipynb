{
 "cells": [
  {
   "cell_type": "code",
   "execution_count": 21,
   "metadata": {},
   "outputs": [],
   "source": [
    "import os\n",
    "import random\n",
    "\n",
    "lf_directory = \"C:\\\\Users\\\\rmueller\\\\Google Drive\\\\University\\\\Master_Project\\\\data_storage\\\\lightfields\"\n",
    "\n",
    "image_dirs = []\n",
    "for path, subdirs, files in os.walk(lf_directory):\n",
    "    if '0002_Set0_Cam_003_img.png' in files:\n",
    "        image_dirs.append(path)\n",
    "random.seed(1)\n",
    "random.shuffle(image_dirs)\n",
    "# for lf in image_dirs:\n",
    "    "
   ]
  },
  {
   "cell_type": "code",
   "execution_count": 22,
   "metadata": {},
   "outputs": [
    {
     "data": {
      "text/plain": [
       "['0002_Set0_Cam_000_img.png',\n",
       " '0002_Set0_Cam_001_img.png',\n",
       " '0002_Set0_Cam_002_img.png',\n",
       " '0002_Set0_Cam_003_img.png',\n",
       " '0002_Set0_Cam_004_img.png',\n",
       " '0002_Set0_Cam_005_img.png',\n",
       " '0002_Set0_Cam_006_img.png',\n",
       " '0002_Set0_Cam_007_img.png',\n",
       " '0002_Set0_Cam_008_img.png',\n",
       " '0002_Set0_Cam_009_img.png',\n",
       " '0002_Set0_Cam_010_img.png',\n",
       " '0002_Set0_Cam_011_img.png',\n",
       " '0002_Set0_Cam_012_img.png',\n",
       " 'pmatrix.hdf5',\n",
       " 'positions.cfg',\n",
       " 'positions.clif',\n",
       " 'tracking.cfg',\n",
       " 'tracking.clif']"
      ]
     },
     "execution_count": 22,
     "metadata": {},
     "output_type": "execute_result"
    }
   ],
   "source": [
    "os.listdir(image_dirs[0])"
   ]
  },
  {
   "cell_type": "code",
   "execution_count": 23,
   "metadata": {},
   "outputs": [
    {
     "data": {
      "text/plain": [
       "1941"
      ]
     },
     "execution_count": 23,
     "metadata": {},
     "output_type": "execute_result"
    }
   ],
   "source": [
    "len(image_dirs)"
   ]
  },
  {
   "cell_type": "code",
   "execution_count": 24,
   "metadata": {},
   "outputs": [
    {
     "data": {
      "text/plain": [
       "'C:\\\\Users\\\\rmueller\\\\Google Drive\\\\University\\\\Master_Project\\\\data_storage\\\\lightfields\\\\good\\\\0355_m0_sc34.6_b1.7_s0.88_r0.45_m1.0_r1.07_t1.71_p1.68'"
      ]
     },
     "execution_count": 24,
     "metadata": {},
     "output_type": "execute_result"
    }
   ],
   "source": [
    "image_dirs[0]"
   ]
  },
  {
   "cell_type": "code",
   "execution_count": 20,
   "metadata": {},
   "outputs": [
    {
     "name": "stdout",
     "output_type": "stream",
     "text": [
      "uh oh\n",
      "C:\\Users\\rmueller\\Google Drive\\University\\Master_Project\\data_storage\\lightfields\n",
      "uh oh\n",
      "C:\\Users\\rmueller\\Google Drive\\University\\Master_Project\\data_storage\\lightfields\\good\n",
      "uh oh\n",
      "C:\\Users\\rmueller\\Google Drive\\University\\Master_Project\\data_storage\\lightfields\\scratch\n",
      "uh oh\n",
      "C:\\Users\\rmueller\\Google Drive\\University\\Master_Project\\data_storage\\lightfields\\dent\n"
     ]
    }
   ],
   "source": [
    "for lf in image_dirs:\n",
    "    files = os.listdir(lf)\n",
    "    if '0002_Set0_Cam_003_img.png' not in files:\n",
    "        print('uh oh')\n",
    "        print(lf)"
   ]
  },
  {
   "cell_type": "code",
   "execution_count": null,
   "metadata": {},
   "outputs": [],
   "source": []
  }
 ],
 "metadata": {
  "kernelspec": {
   "display_name": "Python 3",
   "language": "python",
   "name": "python3"
  },
  "language_info": {
   "codemirror_mode": {
    "name": "ipython",
    "version": 3
   },
   "file_extension": ".py",
   "mimetype": "text/x-python",
   "name": "python",
   "nbconvert_exporter": "python",
   "pygments_lexer": "ipython3",
   "version": "3.8.5"
  }
 },
 "nbformat": 4,
 "nbformat_minor": 4
}
